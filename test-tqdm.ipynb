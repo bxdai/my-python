{
 "cells": [
  {
   "cell_type": "code",
   "execution_count": 26,
   "metadata": {},
   "outputs": [
    {
     "name": "stderr",
     "output_type": "stream",
     "text": [
      "Training (200 / 200 Steps): 100%|██████████| 200/200 [00:00<00:00, 4477.53it/s]"
     ]
    },
    {
     "name": "stdout",
     "output_type": "stream",
     "text": [
      "0\n",
      "10\n",
      "20\n",
      "30\n",
      "40\n",
      "50\n",
      "60\n",
      "70\n",
      "80\n",
      "90\n",
      "100\n",
      "110\n",
      "120\n",
      "130\n",
      "140\n",
      "150\n",
      "160\n",
      "170\n",
      "180\n",
      "190\n"
     ]
    },
    {
     "name": "stderr",
     "output_type": "stream",
     "text": [
      "\n"
     ]
    }
   ],
   "source": [
    "from tqdm import tqdm\n",
    "\n",
    "epoch_iterator = tqdm(range(200), desc=\"Training (X / X Steps)\", dynamic_ncols=True)\n",
    "global_step = 1\n",
    "max_iterations = 200.0\n",
    "\n",
    "for step,batch in enumerate(epoch_iterator):\n",
    "    #step+=1\n",
    "    epoch_iterator.set_description(\n",
    "            \"Training (%d / %d Steps)\" % (global_step, max_iterations)\n",
    "        )\n",
    "    if step %10 == 0:\n",
    "        print(step)\n",
    "    global_step += 1"
   ]
  },
  {
   "cell_type": "code",
   "execution_count": 20,
   "metadata": {},
   "outputs": [
    {
     "name": "stdout",
     "output_type": "stream",
     "text": [
      "j=0\n",
      "j=1\n",
      "j=2\n",
      "j=3\n",
      "j=4\n",
      "j=5\n",
      "j=6\n",
      "j=7\n",
      "j=8\n",
      "j=9\n"
     ]
    }
   ],
   "source": [
    "for j in range(10):\n",
    "    print(\"j={}\".format(j))\n"
   ]
  },
  {
   "cell_type": "code",
   "execution_count": 27,
   "metadata": {},
   "outputs": [
    {
     "name": "stderr",
     "output_type": "stream",
     "text": [
      "100%|██████████| 100/100 [00:05<00:00, 19.84it/s]\n",
      "Processing: 100%|██████████| 100/100 [00:05<00:00, 19.89it/s]\n",
      "Processing e: 100%|██████████| 5/5 [00:01<00:00,  4.98it/s]\n"
     ]
    }
   ],
   "source": [
    "import time\n",
    "from tqdm import tqdm, trange\n",
    "\n",
    "#trange(i)是tqdm(range(i))的一种简单写法\n",
    "for i in trange(100):\n",
    "    time.sleep(0.05)\n",
    "\n",
    "for i in tqdm(range(100), desc='Processing'):\n",
    "    time.sleep(0.05)\n",
    "\n",
    "dic = ['a', 'b', 'c', 'd', 'e']\n",
    "pbar = tqdm(dic)\n",
    "for i in pbar:\n",
    "    pbar.set_description('Processing '+i)\n",
    "    time.sleep(0.2)"
   ]
  }
 ],
 "metadata": {
  "kernelspec": {
   "display_name": "Python 3.9.7 64-bit",
   "language": "python",
   "name": "python3"
  },
  "language_info": {
   "codemirror_mode": {
    "name": "ipython",
    "version": 3
   },
   "file_extension": ".py",
   "mimetype": "text/x-python",
   "name": "python",
   "nbconvert_exporter": "python",
   "pygments_lexer": "ipython3",
   "version": "3.9.7"
  },
  "orig_nbformat": 4,
  "vscode": {
   "interpreter": {
    "hash": "ba45e27760c94426147f9bc5e8c57e17d8e3b854dbc6baa3a3746a118bf19da6"
   }
  }
 },
 "nbformat": 4,
 "nbformat_minor": 2
}
