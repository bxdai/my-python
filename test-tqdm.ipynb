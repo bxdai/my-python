{
 "cells": [
  {
   "cell_type": "code",
   "execution_count": 26,
   "source": [
    "from tqdm import tqdm\n",
    "\n",
    "epoch_iterator = tqdm(range(200), desc=\"Training (X / X Steps)\", dynamic_ncols=True)\n",
    "global_step = 1\n",
    "max_iterations = 200.0\n",
    "\n",
    "for step,batch in enumerate(epoch_iterator):\n",
    "    #step+=1\n",
    "    epoch_iterator.set_description(\n",
    "            \"Training (%d / %d Steps)\" % (global_step, max_iterations)\n",
    "        )\n",
    "    if step %10 == 0:\n",
    "        print(step)\n",
    "    global_step += 1"
   ],
   "outputs": [
    {
     "output_type": "stream",
     "name": "stderr",
     "text": [
      "Training (200 / 200 Steps): 100%|██████████| 200/200 [00:00<00:00, 4477.53it/s]"
     ]
    },
    {
     "output_type": "stream",
     "name": "stdout",
     "text": [
      "0\n",
      "10\n",
      "20\n",
      "30\n",
      "40\n",
      "50\n",
      "60\n",
      "70\n",
      "80\n",
      "90\n",
      "100\n",
      "110\n",
      "120\n",
      "130\n",
      "140\n",
      "150\n",
      "160\n",
      "170\n",
      "180\n",
      "190\n"
     ]
    },
    {
     "output_type": "stream",
     "name": "stderr",
     "text": [
      "\n"
     ]
    }
   ],
   "metadata": {}
  },
  {
   "cell_type": "code",
   "execution_count": 20,
   "source": [
    "for j in range(10):\n",
    "    print(\"j={}\".format(j))\n"
   ],
   "outputs": [
    {
     "output_type": "stream",
     "name": "stdout",
     "text": [
      "j=0\n",
      "j=1\n",
      "j=2\n",
      "j=3\n",
      "j=4\n",
      "j=5\n",
      "j=6\n",
      "j=7\n",
      "j=8\n",
      "j=9\n"
     ]
    }
   ],
   "metadata": {}
  },
  {
   "cell_type": "code",
   "execution_count": 27,
   "source": [
    "import time\n",
    "from tqdm import tqdm, trange\n",
    "\n",
    "#trange(i)是tqdm(range(i))的一种简单写法\n",
    "for i in trange(100):\n",
    "    time.sleep(0.05)\n",
    "\n",
    "for i in tqdm(range(100), desc='Processing'):\n",
    "    time.sleep(0.05)\n",
    "\n",
    "dic = ['a', 'b', 'c', 'd', 'e']\n",
    "pbar = tqdm(dic)\n",
    "for i in pbar:\n",
    "    pbar.set_description('Processing '+i)\n",
    "    time.sleep(0.2)"
   ],
   "outputs": [
    {
     "output_type": "stream",
     "name": "stderr",
     "text": [
      "100%|██████████| 100/100 [00:05<00:00, 19.84it/s]\n",
      "Processing: 100%|██████████| 100/100 [00:05<00:00, 19.89it/s]\n",
      "Processing e: 100%|██████████| 5/5 [00:01<00:00,  4.98it/s]\n"
     ]
    }
   ],
   "metadata": {}
  }
 ],
 "metadata": {
  "orig_nbformat": 4,
  "language_info": {
   "name": "python",
   "version": "3.8.10",
   "mimetype": "text/x-python",
   "codemirror_mode": {
    "name": "ipython",
    "version": 3
   },
   "pygments_lexer": "ipython3",
   "nbconvert_exporter": "python",
   "file_extension": ".py"
  },
  "kernelspec": {
   "name": "python3",
   "display_name": "Python 3.8.10 64-bit ('monaienv': venv)"
  },
  "interpreter": {
   "hash": "41cc7d8094642f0aa3e27d256eb25d3485d313a694ac935cfb444781e1af4b99"
  }
 },
 "nbformat": 4,
 "nbformat_minor": 2
}