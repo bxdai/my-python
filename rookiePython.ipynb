{
 "cells": [
  {
   "cell_type": "code",
   "execution_count": 1,
   "source": [
    "a, b, c = 1, 2, \"runoob\"\r\n",
    "isinstance(a,int)"
   ],
   "outputs": [
    {
     "output_type": "execute_result",
     "data": {
      "text/plain": [
       "True"
      ]
     },
     "metadata": {},
     "execution_count": 1
    }
   ],
   "metadata": {}
  },
  {
   "cell_type": "markdown",
   "source": [
    "## isinstance 和 type 的区别在于：\r\n",
    "\r\n",
    "* type()不会认为子类是一种父类类型。\r\n",
    "* isinstance()会认为子类是一种父类类型。"
   ],
   "metadata": {}
  },
  {
   "cell_type": "code",
   "execution_count": 7,
   "source": [
    "class A:\r\n",
    "    pass\r\n",
    "class B(A):\r\n",
    "    pass\r\n",
    "print(f\"isinstance(A(),A):{isinstance(A(),A)}\")\r\n",
    "print(f\"type(A()) == A:{type(A()) == A}\")\r\n",
    "print(f\"isinstance(B(),A):{isinstance(B(),A)}\")\r\n",
    "print(f\"type(B()) == A:{type(B()) == A}\")"
   ],
   "outputs": [
    {
     "output_type": "stream",
     "name": "stdout",
     "text": [
      "isinstance(A(),A):True\n",
      "type(A()) == A:True\n",
      "isinstance(B(),A):True\n",
      "type(B()) == A:False\n"
     ]
    }
   ],
   "metadata": {}
  },
  {
   "cell_type": "code",
   "execution_count": 9,
   "source": [
    "5+4\r\n",
    "4.3-2\r\n",
    "3*7\r\n",
    "2/4\r\n",
    "17%3\r\n",
    "2**3"
   ],
   "outputs": [
    {
     "output_type": "execute_result",
     "data": {
      "text/plain": [
       "8"
      ]
     },
     "metadata": {},
     "execution_count": 9
    }
   ],
   "metadata": {}
  },
  {
   "cell_type": "code",
   "execution_count": 10,
   "source": [
    "str = 'Runoob'\r\n",
    "\r\n",
    "print (str)          # 输出字符串\r\n",
    "print (str[0:-1])    # 输出第一个到倒数第二个的所有字符\r\n",
    "print (str[0])       # 输出字符串第一个字符\r\n",
    "print (str[2:5])     # 输出从第三个开始到第五个的字符\r\n",
    "print (str[2:])      # 输出从第三个开始的后的所有字符\r\n",
    "print (str * 2)      # 输出字符串两次，也可以写成 print (2 * str)\r\n",
    "print (str + \"TEST\") # 连接字符串"
   ],
   "outputs": [
    {
     "output_type": "stream",
     "name": "stdout",
     "text": [
      "Runoob\n",
      "Runoo\n",
      "R\n",
      "noo\n",
      "noob\n",
      "RunoobRunoob\n",
      "RunoobTEST\n"
     ]
    }
   ],
   "metadata": {}
  },
  {
   "cell_type": "code",
   "execution_count": 11,
   "source": [
    "print(r'Ru\\noob')"
   ],
   "outputs": [
    {
     "output_type": "stream",
     "name": "stdout",
     "text": [
      "Ru\\noob\n"
     ]
    }
   ],
   "metadata": {}
  },
  {
   "cell_type": "markdown",
   "source": [
    "## 与 C 字符串不同的是，Python 字符串不能被改变。向一个索引位置赋值，比如word[0] = 'm'会导致错误。\r\n",
    "\r\n",
    "### 注意：\r\n",
    "\r\n",
    "* 1、反斜杠可以用来转义，使用r可以让反斜杠不发生转义。\r\n",
    "* 2、字符串可以用+运算符连接在一起，用*运算符重复。\r\n",
    "* 3、Python中的字符串有两种索引方式，从左往右以0开始，从右往左以-1开始。\r\n",
    "* 4、Python中的字符串不能改变。"
   ],
   "metadata": {}
  },
  {
   "cell_type": "markdown",
   "source": [
    "## List（列表）\r\n",
    "## List（列表） 是 Python 中使用最频繁的数据类型。\r\n",
    "\r\n",
    "列表可以完成大多数集合类的数据结构实现。列表中元素的类型可以不相同，它支持数字，字符串甚至可以包含列表（所谓嵌套）。\r\n",
    "\r\n",
    "列表是写在方括号 [] 之间、用逗号分隔开的元素列表。\r\n",
    "\r\n",
    "和字符串一样，列表同样可以被索引和截取，列表被截取后返回一个包含所需元素的新列表。\r\n",
    "\r\n",
    "列表截取的语法格式如下："
   ],
   "metadata": {}
  },
  {
   "cell_type": "code",
   "execution_count": 12,
   "source": [
    "#!/usr/bin/python3\r\n",
    "\r\n",
    "list = [ 'abcd', 786 , 2.23, 'runoob', 70.2 ]\r\n",
    "tinylist = [123, 'runoob']\r\n",
    "\r\n",
    "print (list)            # 输出完整列表\r\n",
    "print (list[0])         # 输出列表第一个元素\r\n",
    "print (list[1:3])       # 从第二个开始输出到第三个元素\r\n",
    "print (list[2:])        # 输出从第三个元素开始的所有元素\r\n",
    "print (tinylist * 2)    # 输出两次列表\r\n",
    "print (list + tinylist) # 连接列表"
   ],
   "outputs": [
    {
     "output_type": "stream",
     "name": "stdout",
     "text": [
      "['abcd', 786, 2.23, 'runoob', 70.2]\n",
      "abcd\n",
      "[786, 2.23]\n",
      "[2.23, 'runoob', 70.2]\n",
      "[123, 'runoob', 123, 'runoob']\n",
      "['abcd', 786, 2.23, 'runoob', 70.2, 123, 'runoob']\n"
     ]
    }
   ],
   "metadata": {}
  },
  {
   "cell_type": "code",
   "execution_count": 13,
   "source": [
    "def reverseWords(input):\r\n",
    "     \r\n",
    "    # 通过空格将字符串分隔符，把各个单词分隔为列表\r\n",
    "    inputWords = input.split(\" \")\r\n",
    " \r\n",
    "    # 翻转字符串\r\n",
    "    # 假设列表 list = [1,2,3,4],  \r\n",
    "    # list[0]=1, list[1]=2 ，而 -1 表示最后一个元素 list[-1]=4 ( 与 list[3]=4 一样)\r\n",
    "    # inputWords[-1::-1] 有三个参数\r\n",
    "    # 第一个参数 -1 表示最后一个元素\r\n",
    "    # 第二个参数为空，表示移动到列表末尾\r\n",
    "    # 第三个参数为步长，-1 表示逆向\r\n",
    "    inputWords=inputWords[-1::-1]\r\n",
    " \r\n",
    "    # 重新组合字符串\r\n",
    "    output = ' '.join(inputWords)\r\n",
    "     \r\n",
    "    return output\r\n",
    " \r\n",
    "if __name__ == \"__main__\":\r\n",
    "    input = 'I like runoob'\r\n",
    "    rw = reverseWords(input)\r\n",
    "    print(rw)"
   ],
   "outputs": [
    {
     "output_type": "stream",
     "name": "stdout",
     "text": [
      "runoob like I\n"
     ]
    }
   ],
   "metadata": {}
  },
  {
   "cell_type": "markdown",
   "source": [
    "## Tuple（元组）\r\n",
    "元组（tuple）与列表类似，不同之处在于元组的元素不能修改。元组写在小括号 () 里，元素之间用逗号隔开。\r\n",
    "\r\n",
    "元组中的元素类型也可以不相同："
   ],
   "metadata": {}
  },
  {
   "cell_type": "code",
   "execution_count": 14,
   "source": [
    "#!/usr/bin/python3\r\n",
    "\r\n",
    "tuple = ( 'abcd', 786 , 2.23, 'runoob', 70.2  )\r\n",
    "tinytuple = (123, 'runoob')\r\n",
    "\r\n",
    "print (tuple)             # 输出完整元组\r\n",
    "print (tuple[0])          # 输出元组的第一个元素\r\n",
    "print (tuple[1:3])        # 输出从第二个元素开始到第三个元素\r\n",
    "print (tuple[2:])         # 输出从第三个元素开始的所有元素\r\n",
    "print (tinytuple * 2)     # 输出两次元组\r\n",
    "print (tuple + tinytuple) # 连接元组"
   ],
   "outputs": [
    {
     "output_type": "stream",
     "name": "stdout",
     "text": [
      "('abcd', 786, 2.23, 'runoob', 70.2)\n",
      "abcd\n",
      "(786, 2.23)\n",
      "(2.23, 'runoob', 70.2)\n",
      "(123, 'runoob', 123, 'runoob')\n",
      "('abcd', 786, 2.23, 'runoob', 70.2, 123, 'runoob')\n"
     ]
    }
   ],
   "metadata": {}
  },
  {
   "cell_type": "code",
   "execution_count": 15,
   "source": [
    "tup1 = ()    # 空元组\r\n",
    "tup2 = (20,) # 一个元素，需要在元素后添加逗号"
   ],
   "outputs": [],
   "metadata": {}
  }
 ],
 "metadata": {
  "orig_nbformat": 4,
  "language_info": {
   "name": "python",
   "version": "3.9.1",
   "mimetype": "text/x-python",
   "codemirror_mode": {
    "name": "ipython",
    "version": 3
   },
   "pygments_lexer": "ipython3",
   "nbconvert_exporter": "python",
   "file_extension": ".py"
  },
  "kernelspec": {
   "name": "python3",
   "display_name": "Python 3.9.1 64-bit"
  },
  "interpreter": {
   "hash": "70f3c038ccd4929d4f5e3f1b4e72d58d2d31a35463a2e52dc84c448bb4aefeb0"
  }
 },
 "nbformat": 4,
 "nbformat_minor": 2
}