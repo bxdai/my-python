{
 "cells": [
  {
   "cell_type": "markdown",
   "source": [
    "## 文档参考\r\n",
    "[Pad API](https://numpy.org/devdocs/reference/generated/numpy.pad.html#numpy.pad)\r\n",
    "\r\n",
    "## 参数介绍\r\n",
    "> ndarray = numpy.pad(array, pad_width, mode, **kwargs)\r\n",
    "* array为要填补的数组\r\n",
    "* pad_width是在各维度的各个方向上想要填补的长度,如（（1，2），（2，2）），表示在第一个维度上水平方向上padding=1,垂直方向上padding=2,在第二个维度上水平方向上padding=2,垂直方向上padding=2。如果直接输入一个整数，则说明各个维度和各个方向所填补的长度都一样。\r\n",
    "* mode为填补类型，即怎样去填补，有“constant”，“edge”等模式，如果为constant模式，就得指定填补的值，如果不指定，则默认填充0。 \r\n",
    "* ndarray为填充好的返回值。\r\n"
   ],
   "metadata": {}
  },
  {
   "cell_type": "code",
   "execution_count": 2,
   "source": [
    "import numpy as np\r\n"
   ],
   "outputs": [],
   "metadata": {}
  },
  {
   "cell_type": "code",
   "execution_count": 3,
   "source": [
    "a = [1,2,3,4,5]\r\n",
    "# print(a.shape)\r\n",
    "np.pad(a, (2,0), 'constant', constant_values=(4))"
   ],
   "outputs": [
    {
     "output_type": "execute_result",
     "data": {
      "text/plain": [
       "array([4, 4, 1, 2, 3, 4, 5])"
      ]
     },
     "metadata": {},
     "execution_count": 3
    }
   ],
   "metadata": {}
  },
  {
   "cell_type": "code",
   "execution_count": 4,
   "source": [
    "np.pad(a, (2, 3), 'constant', constant_values=(4, 6))"
   ],
   "outputs": [
    {
     "output_type": "execute_result",
     "data": {
      "text/plain": [
       "array([4, 4, 1, 2, 3, 4, 5, 6, 6, 6])"
      ]
     },
     "metadata": {},
     "execution_count": 4
    }
   ],
   "metadata": {}
  },
  {
   "cell_type": "code",
   "execution_count": 5,
   "source": [
    "np.pad(a, (2, 3), 'edge')"
   ],
   "outputs": [
    {
     "output_type": "execute_result",
     "data": {
      "text/plain": [
       "array([1, 1, 1, 2, 3, 4, 5, 5, 5, 5])"
      ]
     },
     "metadata": {},
     "execution_count": 5
    }
   ],
   "metadata": {}
  },
  {
   "cell_type": "code",
   "execution_count": 6,
   "source": [
    "np.pad(a, (2, 3), 'linear_ramp', end_values=(5, -4))"
   ],
   "outputs": [
    {
     "output_type": "execute_result",
     "data": {
      "text/plain": [
       "array([ 5,  3,  1,  2,  3,  4,  5,  2, -1, -4])"
      ]
     },
     "metadata": {},
     "execution_count": 6
    }
   ],
   "metadata": {}
  },
  {
   "cell_type": "code",
   "execution_count": 7,
   "source": [
    "np.pad(a, (2,), 'maximum')"
   ],
   "outputs": [
    {
     "output_type": "execute_result",
     "data": {
      "text/plain": [
       "array([5, 5, 1, 2, 3, 4, 5, 5, 5])"
      ]
     },
     "metadata": {},
     "execution_count": 7
    }
   ],
   "metadata": {}
  },
  {
   "cell_type": "code",
   "execution_count": 8,
   "source": [
    "m =np.random.randint(1,10,(3,5,6))\r\n",
    "m"
   ],
   "outputs": [
    {
     "output_type": "execute_result",
     "data": {
      "text/plain": [
       "array([[[6, 4, 2, 5, 6, 6],\n",
       "        [8, 4, 7, 4, 9, 8],\n",
       "        [7, 6, 1, 8, 6, 3],\n",
       "        [3, 4, 1, 3, 4, 8],\n",
       "        [5, 9, 4, 5, 9, 7]],\n",
       "\n",
       "       [[4, 4, 1, 7, 5, 2],\n",
       "        [6, 4, 7, 6, 2, 5],\n",
       "        [5, 1, 3, 4, 7, 3],\n",
       "        [9, 4, 9, 5, 4, 7],\n",
       "        [6, 3, 1, 8, 5, 4]],\n",
       "\n",
       "       [[5, 9, 8, 5, 3, 3],\n",
       "        [5, 6, 3, 4, 7, 4],\n",
       "        [5, 1, 4, 6, 8, 7],\n",
       "        [1, 5, 3, 9, 2, 9],\n",
       "        [2, 2, 6, 2, 4, 1]]])"
      ]
     },
     "metadata": {},
     "execution_count": 8
    }
   ],
   "metadata": {}
  },
  {
   "cell_type": "code",
   "execution_count": 9,
   "source": [
    "k = np.pad(m, ((0,1),(0,1),(0,1)), 'constant', constant_values=(0,-1))\r\n",
    "k"
   ],
   "outputs": [
    {
     "output_type": "execute_result",
     "data": {
      "text/plain": [
       "array([[[ 6,  4,  2,  5,  6,  6, -1],\n",
       "        [ 8,  4,  7,  4,  9,  8, -1],\n",
       "        [ 7,  6,  1,  8,  6,  3, -1],\n",
       "        [ 3,  4,  1,  3,  4,  8, -1],\n",
       "        [ 5,  9,  4,  5,  9,  7, -1],\n",
       "        [-1, -1, -1, -1, -1, -1, -1]],\n",
       "\n",
       "       [[ 4,  4,  1,  7,  5,  2, -1],\n",
       "        [ 6,  4,  7,  6,  2,  5, -1],\n",
       "        [ 5,  1,  3,  4,  7,  3, -1],\n",
       "        [ 9,  4,  9,  5,  4,  7, -1],\n",
       "        [ 6,  3,  1,  8,  5,  4, -1],\n",
       "        [-1, -1, -1, -1, -1, -1, -1]],\n",
       "\n",
       "       [[ 5,  9,  8,  5,  3,  3, -1],\n",
       "        [ 5,  6,  3,  4,  7,  4, -1],\n",
       "        [ 5,  1,  4,  6,  8,  7, -1],\n",
       "        [ 1,  5,  3,  9,  2,  9, -1],\n",
       "        [ 2,  2,  6,  2,  4,  1, -1],\n",
       "        [-1, -1, -1, -1, -1, -1, -1]],\n",
       "\n",
       "       [[-1, -1, -1, -1, -1, -1, -1],\n",
       "        [-1, -1, -1, -1, -1, -1, -1],\n",
       "        [-1, -1, -1, -1, -1, -1, -1],\n",
       "        [-1, -1, -1, -1, -1, -1, -1],\n",
       "        [-1, -1, -1, -1, -1, -1, -1],\n",
       "        [-1, -1, -1, -1, -1, -1, -1]]])"
      ]
     },
     "metadata": {},
     "execution_count": 9
    }
   ],
   "metadata": {}
  },
  {
   "cell_type": "markdown",
   "source": [
    "## torch.nn.functional.pad\r\n",
    "https://pytorch.org/docs/stable/generated/torch.nn.functional.pad.html   \r\n",
    "\r\n",
    "\r\n",
    "从最后一个维度开始向前填充\r\n",
    "1维度(pading_left,pading_right)  \r\n",
    "2维度(padding_left,padding_right, padding_top, padding_bottom,padding_top,padding_bottom)  \r\n",
    "常量填充(\"constant\")可用于任意尺寸。     \r\n",
    "复制填充('replicate')用于填充5D输入张量的最后3维，或4D输入张量的最后2维，或3D输入张量的最后1维。  \r\n",
    "反射填充('reflect')仅用于填充4D输入张量的最后2维，或3D输入张量的最后1维。  \r\n",
    "参考 ConstantPad2d torch.nn。ReflectionPad2d, torch.nn。ReplicationPad2d 例子，了解他们是怎么填充的  "
   ],
   "metadata": {}
  },
  {
   "cell_type": "code",
   "execution_count": 10,
   "source": [
    "import torch\r\n",
    "from torch.nn import functional as F\r\n",
    "\r\n",
    "a = torch.randn([2,3,4,5])  # torch.Size([2, 3, 4, 5])\r\n",
    "padding = (\r\n",
    "    1,2,   # 前面填充1个单位，后面填充两个单位，输入的最后一个维度则增加1+2个单位，成为8\r\n",
    "    2,3,\r\n",
    "    3,4\r\n",
    ")\r\n",
    "print(a.shape)\r\n",
    "b = F.pad(a, padding)\r\n",
    "print(b.shape)  # torch.Size([2, 10, 9, 8])  \r\n"
   ],
   "outputs": [
    {
     "output_type": "stream",
     "name": "stdout",
     "text": [
      "torch.Size([2, 3, 4, 5])\n",
      "torch.Size([2, 10, 9, 8])\n"
     ]
    }
   ],
   "metadata": {}
  },
  {
   "cell_type": "code",
   "execution_count": 12,
   "source": [
    "c = F.pad(a, (1,2,3,4),'replicate')\r\n",
    "print(c.shape)  # torch.Size([2, 10, 9, 8])  "
   ],
   "outputs": [
    {
     "output_type": "stream",
     "name": "stdout",
     "text": [
      "torch.Size([2, 3, 11, 8])\n"
     ]
    }
   ],
   "metadata": {}
  }
 ],
 "metadata": {
  "orig_nbformat": 4,
  "language_info": {
   "name": "python",
   "version": "3.9.1",
   "mimetype": "text/x-python",
   "codemirror_mode": {
    "name": "ipython",
    "version": 3
   },
   "pygments_lexer": "ipython3",
   "nbconvert_exporter": "python",
   "file_extension": ".py"
  },
  "kernelspec": {
   "name": "python3",
   "display_name": "Python 3.9.1 64-bit"
  },
  "interpreter": {
   "hash": "70f3c038ccd4929d4f5e3f1b4e72d58d2d31a35463a2e52dc84c448bb4aefeb0"
  }
 },
 "nbformat": 4,
 "nbformat_minor": 2
}