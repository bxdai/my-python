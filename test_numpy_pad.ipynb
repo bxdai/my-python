{
 "cells": [
  {
   "cell_type": "markdown",
   "metadata": {},
   "source": [
    "## 文档参考\n",
    "[Pad API](https://numpy.org/devdocs/reference/generated/numpy.pad.html#numpy.pad)  \n",
    "[Numpy学习——数组填充np.pad()函数的应用](https://blog.csdn.net/zenghaitao0128/article/details/78713663)\n",
    "\n",
    "## 参数介绍\n",
    "> ndarray = numpy.pad(array, pad_width, mode, **kwargs)\n",
    "* array为要填补的数组\n",
    "* pad_width是在各维度的各个方向上想要填补的长度,如（（1，2），（2，2）），表示在第一个维度上水平方向上padding=1,垂直方向上padding=2,在第二个维度上水平方向上padding=2,垂直方向上padding=2。如果直接输入一个整数，则说明各个维度和各个方向所填补的长度都一样。\n",
    "* mode为填补类型，即怎样去填补，有“constant”，“edge”等模式，如果为constant模式，就得指定填补的值，如果不指定，则默认填充0。 \n",
    "* ndarray为填充好的返回值。\n",
    "\n",
    "##填充方式\n",
    "- 'constant’——表示连续填充相同的值，每个轴可以分别指定填充值，constant_values=（x, y）时前面用x填充，后面用y填充，缺省值填充0\n",
    "\n",
    "- ‘edge’——表示用边缘值填充\n",
    "\n",
    "- ‘linear_ramp’——表示用边缘递减的方式填充\n",
    "\n",
    "- ‘maximum’——表示最大值填充\n",
    "\n",
    "- ‘mean’——表示均值填充\n",
    "\n",
    "- ‘median’——表示中位数填充\n",
    "\n",
    "- ‘minimum’——表示最小值填充\n",
    "\n",
    "- ‘reflect’——表示对称填充\n",
    "\n",
    "- ‘symmetric’——表示对称填充\n",
    "\n",
    "- ‘wrap’——表示用原数组后面的值填充前面，前面的值填充后面\n",
    "\n"
   ]
  },
  {
   "cell_type": "code",
   "execution_count": 15,
   "metadata": {},
   "outputs": [],
   "source": [
    "import numpy as np\n"
   ]
  },
  {
   "cell_type": "code",
   "execution_count": 16,
   "metadata": {},
   "outputs": [
    {
     "data": {
      "text/plain": [
       "array([4, 4, 1, 2, 3, 4, 5])"
      ]
     },
     "execution_count": 16,
     "metadata": {},
     "output_type": "execute_result"
    }
   ],
   "source": [
    "a = [1,2,3,4,5]\n",
    "# print(a.shape)\n",
    "np.pad(a, (2,0), 'constant', constant_values=(4))"
   ]
  },
  {
   "cell_type": "code",
   "execution_count": 17,
   "metadata": {},
   "outputs": [
    {
     "data": {
      "text/plain": [
       "array([4, 4, 1, 2, 3, 4, 5, 6, 6, 6])"
      ]
     },
     "execution_count": 17,
     "metadata": {},
     "output_type": "execute_result"
    }
   ],
   "source": [
    "np.pad(a, (2, 3), 'constant', constant_values=(4, 6))"
   ]
  },
  {
   "cell_type": "code",
   "execution_count": 18,
   "metadata": {},
   "outputs": [
    {
     "data": {
      "text/plain": [
       "array([1, 1, 1, 2, 3, 4, 5, 5, 5, 5])"
      ]
     },
     "execution_count": 18,
     "metadata": {},
     "output_type": "execute_result"
    }
   ],
   "source": [
    "np.pad(a, (2, 3), 'edge')"
   ]
  },
  {
   "cell_type": "code",
   "execution_count": 19,
   "metadata": {},
   "outputs": [
    {
     "data": {
      "text/plain": [
       "array([ 5,  3,  1,  2,  3,  4,  5,  2, -1, -4])"
      ]
     },
     "execution_count": 19,
     "metadata": {},
     "output_type": "execute_result"
    }
   ],
   "source": [
    "np.pad(a, (2, 3), 'linear_ramp', end_values=(5, -4))"
   ]
  },
  {
   "cell_type": "code",
   "execution_count": 20,
   "metadata": {},
   "outputs": [
    {
     "data": {
      "text/plain": [
       "array([5, 5, 1, 2, 3, 4, 5, 5, 5])"
      ]
     },
     "execution_count": 20,
     "metadata": {},
     "output_type": "execute_result"
    }
   ],
   "source": [
    "np.pad(a, (2,), 'maximum')"
   ]
  },
  {
   "cell_type": "code",
   "execution_count": 21,
   "metadata": {},
   "outputs": [
    {
     "data": {
      "text/plain": [
       "array([3, 3, 1, 2, 3, 4, 5, 3, 3])"
      ]
     },
     "execution_count": 21,
     "metadata": {},
     "output_type": "execute_result"
    }
   ],
   "source": [
    "np.pad(a, (2,), 'mean')"
   ]
  },
  {
   "cell_type": "code",
   "execution_count": 22,
   "metadata": {},
   "outputs": [
    {
     "data": {
      "text/plain": [
       "array([3, 3, 1, 2, 3, 4, 5, 3, 3])"
      ]
     },
     "execution_count": 22,
     "metadata": {},
     "output_type": "execute_result"
    }
   ],
   "source": [
    "np.pad(a, (2,), 'median')"
   ]
  },
  {
   "cell_type": "markdown",
   "metadata": {},
   "source": [
    "## 轴镜像翻转"
   ]
  },
  {
   "cell_type": "code",
   "execution_count": 23,
   "metadata": {},
   "outputs": [
    {
     "data": {
      "text/plain": [
       "array([3, 2, 1, 2, 3, 4, 5, 4, 3, 2])"
      ]
     },
     "execution_count": 23,
     "metadata": {},
     "output_type": "execute_result"
    }
   ],
   "source": [
    "np.pad(a, (2, 3), 'reflect')"
   ]
  },
  {
   "cell_type": "code",
   "execution_count": 24,
   "metadata": {},
   "outputs": [
    {
     "data": {
      "text/plain": [
       "array([-1,  0,  1,  2,  3,  4,  5,  6,  7,  8])"
      ]
     },
     "execution_count": 24,
     "metadata": {},
     "output_type": "execute_result"
    }
   ],
   "source": [
    "np.pad(a, (2, 3), 'reflect', reflect_type='odd')"
   ]
  },
  {
   "cell_type": "code",
   "execution_count": 8,
   "metadata": {},
   "outputs": [
    {
     "data": {
      "text/plain": [
       "array([[[6, 4, 2, 5, 6, 6],\n",
       "        [8, 4, 7, 4, 9, 8],\n",
       "        [7, 6, 1, 8, 6, 3],\n",
       "        [3, 4, 1, 3, 4, 8],\n",
       "        [5, 9, 4, 5, 9, 7]],\n",
       "\n",
       "       [[4, 4, 1, 7, 5, 2],\n",
       "        [6, 4, 7, 6, 2, 5],\n",
       "        [5, 1, 3, 4, 7, 3],\n",
       "        [9, 4, 9, 5, 4, 7],\n",
       "        [6, 3, 1, 8, 5, 4]],\n",
       "\n",
       "       [[5, 9, 8, 5, 3, 3],\n",
       "        [5, 6, 3, 4, 7, 4],\n",
       "        [5, 1, 4, 6, 8, 7],\n",
       "        [1, 5, 3, 9, 2, 9],\n",
       "        [2, 2, 6, 2, 4, 1]]])"
      ]
     },
     "execution_count": 8,
     "metadata": {},
     "output_type": "execute_result"
    }
   ],
   "source": [
    "m =np.random.randint(1,10,(3,5,6))\n",
    "m"
   ]
  },
  {
   "cell_type": "code",
   "execution_count": 9,
   "metadata": {},
   "outputs": [
    {
     "data": {
      "text/plain": [
       "array([[[ 6,  4,  2,  5,  6,  6, -1],\n",
       "        [ 8,  4,  7,  4,  9,  8, -1],\n",
       "        [ 7,  6,  1,  8,  6,  3, -1],\n",
       "        [ 3,  4,  1,  3,  4,  8, -1],\n",
       "        [ 5,  9,  4,  5,  9,  7, -1],\n",
       "        [-1, -1, -1, -1, -1, -1, -1]],\n",
       "\n",
       "       [[ 4,  4,  1,  7,  5,  2, -1],\n",
       "        [ 6,  4,  7,  6,  2,  5, -1],\n",
       "        [ 5,  1,  3,  4,  7,  3, -1],\n",
       "        [ 9,  4,  9,  5,  4,  7, -1],\n",
       "        [ 6,  3,  1,  8,  5,  4, -1],\n",
       "        [-1, -1, -1, -1, -1, -1, -1]],\n",
       "\n",
       "       [[ 5,  9,  8,  5,  3,  3, -1],\n",
       "        [ 5,  6,  3,  4,  7,  4, -1],\n",
       "        [ 5,  1,  4,  6,  8,  7, -1],\n",
       "        [ 1,  5,  3,  9,  2,  9, -1],\n",
       "        [ 2,  2,  6,  2,  4,  1, -1],\n",
       "        [-1, -1, -1, -1, -1, -1, -1]],\n",
       "\n",
       "       [[-1, -1, -1, -1, -1, -1, -1],\n",
       "        [-1, -1, -1, -1, -1, -1, -1],\n",
       "        [-1, -1, -1, -1, -1, -1, -1],\n",
       "        [-1, -1, -1, -1, -1, -1, -1],\n",
       "        [-1, -1, -1, -1, -1, -1, -1],\n",
       "        [-1, -1, -1, -1, -1, -1, -1]]])"
      ]
     },
     "execution_count": 9,
     "metadata": {},
     "output_type": "execute_result"
    }
   ],
   "source": [
    "k = np.pad(m, ((0,1),(0,1),(0,1)), 'constant', constant_values=(0,-1))\n",
    "k"
   ]
  },
  {
   "cell_type": "code",
   "execution_count": 13,
   "metadata": {},
   "outputs": [
    {
     "data": {
      "text/plain": [
       "array([[[1, 2],\n",
       "        [3, 4]]])"
      ]
     },
     "execution_count": 13,
     "metadata": {},
     "output_type": "execute_result"
    }
   ],
   "source": [
    "B = np.arange(1,5).reshape(1,2,2)  #原始输入数组\n",
    "B"
   ]
  },
  {
   "cell_type": "code",
   "execution_count": null,
   "metadata": {},
   "outputs": [],
   "source": [
    "np.pad(B,())"
   ]
  },
  {
   "cell_type": "markdown",
   "metadata": {},
   "source": [
    "## torch.nn.functional.pad\n",
    "https://pytorch.org/docs/stable/generated/torch.nn.functional.pad.html   \n",
    "\n",
    "\n",
    "从最后一个维度开始向前填充\n",
    "1维度(pading_left,pading_right)  \n",
    "2维度(padding_left,padding_right, padding_top, padding_bottom,padding_top,padding_bottom)  \n",
    "常量填充(\"constant\")可用于任意尺寸。     \n",
    "复制填充('replicate')用于填充5D输入张量的最后3维，或4D输入张量的最后2维，或3D输入张量的最后1维。  \n",
    "反射填充('reflect')仅用于填充4D输入张量的最后2维，或3D输入张量的最后1维。  \n",
    "参考 ConstantPad2d torch.nn。ReflectionPad2d, torch.nn。ReplicationPad2d 例子，了解他们是怎么填充的  "
   ]
  },
  {
   "cell_type": "code",
   "execution_count": 10,
   "metadata": {},
   "outputs": [
    {
     "name": "stdout",
     "output_type": "stream",
     "text": [
      "torch.Size([2, 3, 4, 5])\n",
      "torch.Size([2, 10, 9, 8])\n"
     ]
    }
   ],
   "source": [
    "import torch\n",
    "from torch.nn import functional as F\n",
    "\n",
    "a = torch.randn([2,3,4,5])  # torch.Size([2, 3, 4, 5])\n",
    "padding = (\n",
    "    1,2,   # 前面填充1个单位，后面填充两个单位，输入的最后一个维度则增加1+2个单位，成为8\n",
    "    2,3,\n",
    "    3,4\n",
    ")\n",
    "print(a.shape)\n",
    "b = F.pad(a, padding)\n",
    "print(b.shape)  # torch.Size([2, 10, 9, 8])  \n"
   ]
  },
  {
   "cell_type": "code",
   "execution_count": 12,
   "metadata": {},
   "outputs": [
    {
     "name": "stdout",
     "output_type": "stream",
     "text": [
      "torch.Size([2, 3, 11, 8])\n"
     ]
    }
   ],
   "source": [
    "c = F.pad(a, (1,2,3,4),'replicate')\n",
    "print(c.shape)  # torch.Size([2, 10, 9, 8])  "
   ]
  },
  {
   "cell_type": "code",
   "execution_count": 11,
   "metadata": {},
   "outputs": [
    {
     "data": {
      "text/plain": [
       "(1, 2, 3)"
      ]
     },
     "execution_count": 11,
     "metadata": {},
     "output_type": "execute_result"
    }
   ],
   "source": [
    "import numpy as np\n",
    "a = np.zeros((2,3),np.float32)\n",
    "b = np.expand_dims(a,axis=0)\n",
    "b.shape\n"
   ]
  }
 ],
 "metadata": {
  "interpreter": {
   "hash": "70f3c038ccd4929d4f5e3f1b4e72d58d2d31a35463a2e52dc84c448bb4aefeb0"
  },
  "kernelspec": {
   "display_name": "Python 3.9.1 64-bit",
   "name": "python3"
  },
  "language_info": {
   "codemirror_mode": {
    "name": "ipython",
    "version": 3
   },
   "file_extension": ".py",
   "mimetype": "text/x-python",
   "name": "python",
   "nbconvert_exporter": "python",
   "pygments_lexer": "ipython3",
   "version": "3.9.1"
  },
  "orig_nbformat": 4
 },
 "nbformat": 4,
 "nbformat_minor": 2
}
