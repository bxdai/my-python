{
 "cells": [
  {
   "cell_type": "code",
   "execution_count": 3,
   "metadata": {},
   "outputs": [
    {
     "name": "stderr",
     "output_type": "stream",
     "text": [
      "c:\\Users\\Bxd\\AppData\\Local\\Programs\\Python\\Python39\\lib\\site-packages\\tqdm\\auto.py:22: TqdmWarning: IProgress not found. Please update jupyter and ipywidgets. See https://ipywidgets.readthedocs.io/en/stable/user_install.html\n",
      "  from .autonotebook import tqdm as notebook_tqdm\n"
     ]
    }
   ],
   "source": [
    "import torch.nn as nn\n",
    "import torch\n",
    "from torchsummary import summary "
   ]
  },
  {
   "cell_type": "code",
   "execution_count": 4,
   "metadata": {},
   "outputs": [],
   "source": [
    "class Conv_test(nn.Module):\n",
    "    def __init__(self, in_ch, out_ch, kernel_size, padding, groups):\n",
    "        super(Conv_test, self).__init__()\n",
    "        self.conv = nn.Conv2d(\n",
    "            in_channels=in_ch,\n",
    "            out_channels=out_ch,\n",
    "            kernel_size=kernel_size,\n",
    "            stride=1,\n",
    "            padding=padding,\n",
    "            groups=groups,\n",
    "            bias=False\n",
    "        )\n",
    "\n",
    "    def forward(self, input):\n",
    "        out = self.conv(input)\n",
    "        return out"
   ]
  },
  {
   "cell_type": "code",
   "execution_count": 5,
   "metadata": {},
   "outputs": [
    {
     "name": "stdout",
     "output_type": "stream",
     "text": [
      "----------------------------------------------------------------\n",
      "        Layer (type)               Output Shape         Param #\n",
      "================================================================\n",
      "            Conv2d-1            [-1, 4, 64, 64]             108\n",
      "================================================================\n",
      "Total params: 108\n",
      "Trainable params: 108\n",
      "Non-trainable params: 0\n",
      "----------------------------------------------------------------\n",
      "Input size (MB): 0.05\n",
      "Forward/backward pass size (MB): 0.12\n",
      "Params size (MB): 0.00\n",
      "Estimated Total Size (MB): 0.17\n",
      "----------------------------------------------------------------\n",
      "None\n"
     ]
    }
   ],
   "source": [
    "#标准的卷积层，输入的是3x64x64,目标输出4个feature map\n",
    "# 参数：4x3x3x3 = 108\n",
    "device = torch.device('cuda' if torch.cuda.is_available() else 'cpu')\n",
    "conv = Conv_test(3, 4, 3, 1, 1).to(device)\n",
    "print(summary(conv,  input_size=(3, 64, 64)))"
   ]
  },
  {
   "cell_type": "code",
   "execution_count": 6,
   "metadata": {},
   "outputs": [
    {
     "name": "stdout",
     "output_type": "stream",
     "text": [
      "----------------------------------------------------------------\n",
      "        Layer (type)               Output Shape         Param #\n",
      "================================================================\n",
      "            Conv2d-1            [-1, 3, 64, 64]              27\n",
      "================================================================\n",
      "Total params: 27\n",
      "Trainable params: 27\n",
      "Non-trainable params: 0\n",
      "----------------------------------------------------------------\n",
      "Input size (MB): 0.05\n",
      "Forward/backward pass size (MB): 0.09\n",
      "Params size (MB): 0.00\n",
      "Estimated Total Size (MB): 0.14\n",
      "----------------------------------------------------------------\n",
      "None\n"
     ]
    }
   ],
   "source": [
    "# 逐深度卷积层，输入同上\n",
    "# 参数：有3个通道的3x3x1 也就是27\n",
    "device = torch.device('cuda' if torch.cuda.is_available() else 'cpu')\n",
    "conv = Conv_test(3, 3, 3, padding=1, groups=3).to(device)\n",
    "print(summary(conv,  input_size=(3, 64, 64)))"
   ]
  },
  {
   "cell_type": "code",
   "execution_count": 9,
   "metadata": {},
   "outputs": [
    {
     "name": "stdout",
     "output_type": "stream",
     "text": [
      "----------------------------------------------------------------\n",
      "        Layer (type)               Output Shape         Param #\n",
      "================================================================\n",
      "            Conv2d-1            [-1, 4, 64, 64]              12\n",
      "================================================================\n",
      "Total params: 12\n",
      "Trainable params: 12\n",
      "Non-trainable params: 0\n",
      "----------------------------------------------------------------\n",
      "Input size (MB): 0.05\n",
      "Forward/backward pass size (MB): 0.12\n",
      "Params size (MB): 0.00\n",
      "Estimated Total Size (MB): 0.17\n",
      "----------------------------------------------------------------\n",
      "None\n"
     ]
    }
   ],
   "source": [
    "# 逐点卷积层，输入即逐深度卷积的输出大小，目标输出也是4个feature map\n",
    "# 参数 1x1x3x4 = 12\n",
    "device = torch.device('cuda' if torch.cuda.is_available() else 'cpu')\n",
    "conv = Conv_test(3, 4, kernel_size=1, padding=0, groups=1).to(device)\n",
    "print(summary(conv,  input_size=(3, 64, 64)))"
   ]
  },
  {
   "cell_type": "code",
   "execution_count": 15,
   "metadata": {},
   "outputs": [
    {
     "name": "stdout",
     "output_type": "stream",
     "text": [
      "----------------------------------------------------------------\n",
      "        Layer (type)               Output Shape         Param #\n",
      "================================================================\n",
      "            Conv2d-1            [-1, 6, 64, 64]             108\n",
      "================================================================\n",
      "Total params: 108\n",
      "Trainable params: 108\n",
      "Non-trainable params: 0\n",
      "----------------------------------------------------------------\n",
      "Input size (MB): 0.06\n",
      "Forward/backward pass size (MB): 0.19\n",
      "Params size (MB): 0.00\n",
      "Estimated Total Size (MB): 0.25\n",
      "----------------------------------------------------------------\n",
      "None\n"
     ]
    }
   ],
   "source": [
    "# 分组卷积层，输入的是4x64x64,目标输出4个feature map\n",
    "# 参数数量 2x3x3x6\n",
    "device = torch.device('cuda' if torch.cuda.is_available() else 'cpu')\n",
    "conv = Conv_test(4, 6, 3, padding=1, groups=2).to(device)\n",
    "print(summary(conv,  input_size=(4, 64, 64)))"
   ]
  }
 ],
 "metadata": {
  "kernelspec": {
   "display_name": "Python 3.9.7 64-bit",
   "language": "python",
   "name": "python3"
  },
  "language_info": {
   "codemirror_mode": {
    "name": "ipython",
    "version": 3
   },
   "file_extension": ".py",
   "mimetype": "text/x-python",
   "name": "python",
   "nbconvert_exporter": "python",
   "pygments_lexer": "ipython3",
   "version": "3.9.7"
  },
  "orig_nbformat": 4,
  "vscode": {
   "interpreter": {
    "hash": "ba45e27760c94426147f9bc5e8c57e17d8e3b854dbc6baa3a3746a118bf19da6"
   }
  }
 },
 "nbformat": 4,
 "nbformat_minor": 2
}
