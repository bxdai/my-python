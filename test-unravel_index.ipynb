{
 "cells": [
  {
   "cell_type": "code",
   "execution_count": 9,
   "metadata": {},
   "outputs": [],
   "source": [
    "import numpy as np\n",
    "import torch"
   ]
  },
  {
   "cell_type": "code",
   "execution_count": 10,
   "metadata": {},
   "outputs": [
    {
     "name": "stdout",
     "output_type": "stream",
     "text": [
      "[[1 1 1 3 3 3 2 2 2]\n",
      " [1 1 1 3 3 3 2 2 2]\n",
      " [1 1 1 3 3 3 2 2 2]\n",
      " [1 1 1 3 3 3 2 2 2]] (4, 9) int32\n",
      "torch.Size([4, 9]) torch.int32\n"
     ]
    }
   ],
   "source": [
    "a= np.array([[1, 1, 1, 3, 3, 3, 2, 2, 2],\n",
    "          [1, 1, 1, 3, 3, 3, 2, 2, 2],\n",
    "          [1, 1, 1, 3, 3, 3, 2, 2, 2],\n",
    "          [1, 1, 1, 3, 3, 3, 2, 2, 2]\n",
    "          ])\n",
    "print(a,a.shape,a.dtype)\n",
    "\n",
    "a_x = torch.from_numpy(a)\n",
    "print(a_x.shape,a_x.dtype)"
   ]
  },
  {
   "cell_type": "code",
   "execution_count": 12,
   "metadata": {},
   "outputs": [
    {
     "name": "stdout",
     "output_type": "stream",
     "text": [
      "(0, 3)\n"
     ]
    }
   ],
   "source": [
    "max_ind = np.unravel_index(torch.argmax(a_x).item(), a_x.shape)\n",
    "print(max_ind)"
   ]
  }
 ],
 "metadata": {
  "kernelspec": {
   "display_name": "Python 3.9.7 64-bit",
   "language": "python",
   "name": "python3"
  },
  "language_info": {
   "codemirror_mode": {
    "name": "ipython",
    "version": 3
   },
   "file_extension": ".py",
   "mimetype": "text/x-python",
   "name": "python",
   "nbconvert_exporter": "python",
   "pygments_lexer": "ipython3",
   "version": "3.9.7"
  },
  "orig_nbformat": 4,
  "vscode": {
   "interpreter": {
    "hash": "ba45e27760c94426147f9bc5e8c57e17d8e3b854dbc6baa3a3746a118bf19da6"
   }
  }
 },
 "nbformat": 4,
 "nbformat_minor": 2
}
