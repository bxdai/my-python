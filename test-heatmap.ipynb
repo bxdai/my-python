{
 "cells": [
  {
   "cell_type": "code",
   "execution_count": 1,
   "metadata": {},
   "outputs": [
    {
     "name": "stdout",
     "output_type": "stream",
     "text": [
      "==mu_x: [ 6.0636826   5.346121    0.5347297   0.11784577  6.163515    5.0148134\n",
      "  3.5011427   0.24326801  8.595207    9.14074     8.524401    5.7791214\n",
      " 10.183617   12.035204   13.113321   10.283687    9.60774    11.106718\n",
      " 12.646199   63.75        0.        ]\n",
      "==mu_y: [ 3.648746    0.6467624   0.10739517  1.1247525   1.8792963   2.5835316\n",
      "  7.8848677  13.675579    1.3920417   3.8826814   9.685325   14.852728\n",
      "  3.426414    1.418304    7.0228662  11.597452    3.2227054   0.3513255\n",
      "  2.5466359  63.75        0.        ]\n",
      "==np.min(xx): -7.5\n",
      "==np.max(xx): 71.25\n",
      "==local_target.shape: (21, 16, 16)\n",
      "==np.max(local_target): 1.0\n",
      "==idx_joints.shape: (21, 16, 16)\n",
      "===i, idx: 0 (4, 6)\n",
      "===i, idx: 1 (1, 5)\n",
      "===i, idx: 2 (0, 1)\n",
      "===i, idx: 3 (1, 0)\n",
      "===i, idx: 4 (2, 6)\n",
      "===i, idx: 5 (3, 5)\n",
      "===i, idx: 6 (8, 4)\n",
      "===i, idx: 7 (14, 0)\n",
      "===i, idx: 8 (1, 9)\n",
      "===i, idx: 9 (4, 9)\n",
      "===i, idx: 10 (10, 9)\n",
      "===i, idx: 11 (15, 6)\n",
      "===i, idx: 12 (3, 10)\n",
      "===i, idx: 13 (1, 12)\n",
      "===i, idx: 14 (7, 13)\n",
      "===i, idx: 15 (12, 10)\n",
      "===i, idx: 16 (3, 10)\n",
      "===i, idx: 17 (0, 11)\n",
      "===i, idx: 18 (3, 13)\n",
      "===i, idx: 19 (63, 63)\n",
      "===i, idx: 20 (0, 0)\n",
      "1.0\n",
      "0.0\n"
     ]
    },
    {
     "name": "stderr",
     "output_type": "stream",
     "text": [
      "<ipython-input-1-eb2e7c08c33c>:95: DeprecationWarning: `np.long` is a deprecated alias for `np.compat.long`. To silence this warning, use `np.compat.long` by itself. In the likely event your code does not need to work on Python 2 you can use the builtin `int` for which `np.compat.long` is itself an alias. Doing this will not modify any behaviour and is safe. When replacing `np.long`, you may wish to use e.g. `np.int64` or `np.int32` to specify the precision. If you wish to review your current use, check the release note link for additional information.\n",
      "Deprecated in NumPy 1.20; for more details and guidance: https://numpy.org/devdocs/release/1.20.0-notes.html#deprecations\n",
      "  idx = np.stack([idx_joints, yy, xx], axis=-1).astype(np.long).reshape(-1, 3)\n"
     ]
    }
   ],
   "source": [
    " \n",
    "import numpy as np\n",
    "#x,y是平面坐标系,z是手腕坐标系\n",
    "joints_3d = np.array([[24.25473, 14.594984, -220.86395],\n",
    "                      [21.384483, 2.5870495, -102.83917],\n",
    "                      [2.1389189, 0.4295807, -77.805786],\n",
    "                      [0.4713831, 4.49901, -45.992554],\n",
    "                      [24.65406, 7.517185, -131.60638],\n",
    "                      [20.059254, 10.334126, -121.49127],\n",
    "                      [14.004571, 31.53947, -106.92682],\n",
    "                      [0.97307205, 54.702316, -72.0885],\n",
    "                      [34.38083, 5.5681667, -132.75537],\n",
    "                      [36.56296, 15.5307255, -122.979614],\n",
    "                      [34.097603, 38.7413, -104.22839],\n",
    "                      [23.116486, 59.41091, -62.15027],\n",
    "                      [40.734467, 13.705656, -126.29144],\n",
    "                      [48.140816, 5.673216, -115.56366],\n",
    "                      [52.453285, 28.091465, -97.55463],\n",
    "                      [41.134747, 46.38981, -56.097656],\n",
    "                      [38.43096, 12.890821, -117.34686],\n",
    "                      [44.426872, 1.405302, -101.77527],\n",
    "                      [50.584797, 10.186543, -84.22754],\n",
    "                      [255, 255, 51.59436],\n",
    "                      [0., 0., 0.]], dtype=np.float32)\n",
    " \n",
    "joints_3d_visible = np.array([[1., 1., 1.],\n",
    "       [1., 1., 1.],\n",
    "       [1., 1., 1.],\n",
    "       [1., 1., 1.],\n",
    "       [1., 1., 1.],\n",
    "       [1., 1., 1.],\n",
    "       [1., 1., 1.],\n",
    "       [1., 1., 1.],\n",
    "       [1., 1., 1.],\n",
    "       [1., 1., 1.],\n",
    "       [1., 1., 1.],\n",
    "       [1., 1., 1.],\n",
    "       [1., 1., 1.],\n",
    "       [1., 1., 1.],\n",
    "       [1., 1., 1.],\n",
    "       [1., 1., 1.],\n",
    "       [1., 1., 1.],\n",
    "       [1., 1., 1.],\n",
    "       [1., 1., 1.],\n",
    "       [1., 1., 1.],\n",
    "       [1., 1., 1.]], dtype=np.float32)\n",
    " \n",
    "img_size = [256, 256]\n",
    "W, H, D = 64, 64, 64\n",
    "num_joints = 21\n",
    "mu_x = joints_3d[:, 0] * W / img_size[0]\n",
    "mu_y = joints_3d[:, 1] * H / img_size[1]\n",
    " \n",
    "print('==mu_x:', mu_x)\n",
    "print('==mu_y:', mu_y)\n",
    " \n",
    "target = np.zeros([num_joints, H, W], dtype=np.float32)\n",
    " \n",
    "target_weight = joints_3d_visible[:, 0].astype(np.float32)\n",
    "# print('==target_weight:', target_weight)\n",
    "target_weight = target_weight * (mu_x >= 0) * (mu_x < W) * (mu_y >= 0) * (mu_y < H)\n",
    " \n",
    "target_weight = target_weight[:, None]\n",
    "sigma = 2.5\n",
    "# only compute the voxel value near the joints location\n",
    "tmp_size = 3 * sigma\n",
    " \n",
    "# get neighboring voxels coordinates\n",
    "x = y = np.arange(2 * tmp_size + 1, dtype=np.float32) - tmp_size\n",
    "yy, xx = np.meshgrid(y, x)\n",
    " \n",
    "xx = xx[None, ...].astype(np.float32)  # (1, 2 * tmp_size + 1, 2 * tmp_size + 1,2 * tmp_size + 1, 2 * tmp_size + 1)\n",
    "yy = yy[None, ...].astype(np.float32)\n",
    " \n",
    "mu_x = mu_x[..., None, None]  # (21, 1, 1)\n",
    "mu_y = mu_y[..., None, None]\n",
    "xx, yy = xx + mu_x, yy + mu_y  # (42, 2 * tmp_size + 1, 2 * tmp_size + 1, 2 * tmp_size + 1)\n",
    "print('==np.min(xx):', np.min(xx))\n",
    "print('==np.max(xx):', np.max(xx))\n",
    "# round the coordinates\n",
    "xx = xx.round().clip(0, W - 1)\n",
    "yy = yy.round().clip(0, H - 1)\n",
    " \n",
    "# compute the target value near joints\n",
    "local_target = np.exp(-((xx - mu_x) ** 2 + (yy - mu_y) ** 2) / (2 * sigma ** 2))\n",
    "print('==local_target.shape:', local_target.shape)\n",
    "print('==np.max(local_target):', np.max(local_target))\n",
    "# import pdb;pdb.set_trace()\n",
    "# put the local target value to the full target heatmap\n",
    "local_size = xx.shape[1]\n",
    "idx_joints = np.tile(\n",
    "    np.arange(num_joints)[:, None, None],\n",
    "    [1, local_size, local_size])\n",
    "print('==idx_joints.shape:', idx_joints.shape)\n",
    "# print(\"===np.stack([idx_joints, zz, yy, xx],axis=-1)\", np.stack([idx_joints, zz, yy, xx], axis=-1).shape)\n",
    "idx = np.stack([idx_joints, yy, xx], axis=-1).astype(np.long).reshape(-1, 3)\n",
    " \n",
    "target[idx[:, 0], idx[:, 1], idx[:, 2]] = local_target.reshape(-1)\n",
    "for i in range(num_joints):\n",
    "    idx = np.unravel_index(np.argmax(target[i], axis=None), target[i].shape)\n",
    "    print('===i, idx:', i, idx)\n",
    "print(np.max(target))\n",
    "print(np.min(target))"
   ]
  },
  {
   "cell_type": "markdown",
   "metadata": {},
   "source": [
    "http://muyaan.com/2018/10/25/%E7%94%9F%E6%88%90%E4%BA%8C%E7%BB%B4%E9%AB%98%E6%96%AF%E5%88%86%E5%B8%83%E7%83%AD%E5%8A%9B%E5%9B%BE/"
   ]
  },
  {
   "cell_type": "code",
   "execution_count": 4,
   "metadata": {},
   "outputs": [
    {
     "data": {
      "image/png": "[encoded data removed]",
      "text/plain": [
       "<Figure size 432x288 with 1 Axes>"
      ]
     },
     "metadata": {
      "needs_background": "light"
     },
     "output_type": "display_data"
    }
   ],
   "source": [
    "%matplotlib inline\n",
    "import numpy as np\n",
    "from math import exp, log, sqrt, ceil\n",
    "from matplotlib import pyplot as plt\n",
    "\n",
    "def cal_sigma(dmax, edge_value):\n",
    "    \"\"\"Calculate a sigma makes those point's distance to \n",
    "    center is dmax value equal to edge value\"\"\"\n",
    "    return sqrt(- pow(dmax, 2) / log(edge_value))\n",
    "\n",
    "def gaussian(dx, dy, sigma):\n",
    "    \"\"\"modifyed version normal distribution pdf\"\"\"\n",
    "    x_term = pow(dx, 2)\n",
    "    y_term = pow(dy, 2)\n",
    "    exp_value = - (x_term + y_term) / 2 / pow(sigma, 2)\n",
    "    return exp(exp_value)\n",
    "\n",
    "def draw_heatmap(width, height, dmax, x, y, sigma, edge_value):\n",
    "    heatmap = np.zeros((height, width), dtype=np.float32)\n",
    "    r = sqrt(2 * pow(dmax, 2))\n",
    "    intr = int(1.9*dmax)\n",
    "    xmin = max(0, x - intr)\n",
    "    xmax = min(width - 1, x + intr)\n",
    "    ymin = max(0, y - intr)\n",
    "    ymax = min(height - 1, y + intr)\n",
    "    for i in range(xmin, xmax):\n",
    "        for j in range(ymin, ymax):\n",
    "            dx = x - i\n",
    "            dy = y - j\n",
    "            dist = sqrt(pow(dx, 2) + pow(dy, 2))\n",
    "            if dist > intr:\n",
    "                continue\n",
    "            value = gaussian(x - i, y - j, sigma)\n",
    "            heatmap[j, i] = value\n",
    "    return heatmap\n",
    "    \n",
    "def test():\n",
    "    dmax = 100\n",
    "    edge_value = 0.01\n",
    "    sigma = cal_sigma(dmax, edge_value)\n",
    "    hm = draw_heatmap(1024, 576, dmax, 512, 288, sigma, edge_value)\n",
    "    return hm\n",
    "    \n",
    "# %timeit hm = test()\n",
    "hm = test()\n",
    "plt.imshow(hm)\n",
    "plt.show()"
   ]
  },
  {
   "cell_type": "code",
   "execution_count": 1,
   "metadata": {},
   "outputs": [
    {
     "data": {
      "image/png": "[encoded data removed]",
      "text/plain": [
       "<Figure size 432x288 with 1 Axes>"
      ]
     },
     "metadata": {
      "needs_background": "light"
     },
     "output_type": "display_data"
    }
   ],
   "source": [
    "#                    Normal Distribution\n",
    "import numpy as np\n",
    "import matplotlib.pyplot as plt \n",
    "\n",
    "def make_gauss(N, sig, mu):\n",
    "    return lambda x: N/(sig * (2*np.pi)**.5) * np.e ** (-(x-mu)**2/(2 * sig**2))\n",
    "\n",
    "def main():\n",
    "    ax = plt.figure().add_subplot(1,1,1)\n",
    "    x = np.arange(-5, 5, 0.01)\n",
    "    s = np.sqrt([0.2, 1, 5, 0.5])\n",
    "    m = [0, 0, 0, -2] \n",
    "    c = ['b','r','y','g']\n",
    "\n",
    "    for sig, mu, color in zip(s, m, c): \n",
    "        gauss = make_gauss(1, sig, mu)(x)\n",
    "        ax.plot(x, gauss, color, linewidth=2)\n",
    "\n",
    "    plt.xlim(-5, 5)\n",
    "    plt.ylim(0, 1)\n",
    "    plt.legend(['0.2', '1.0', '5.0', '0.5'], loc='best')\n",
    "    plt.show()\n",
    "\n",
    "if __name__ == '__main__':\n",
    "   main()"
   ]
  },
  {
   "cell_type": "code",
   "execution_count": 6,
   "metadata": {},
   "outputs": [],
   "source": [
    "import numpy as np\n",
    "from itertools import product\n",
    "from matplotlib import pyplot as plt\n",
    "def gaussianHeatmap(sigma, dim: int = 2, nsigma: int = 3):\n",
    "    if nsigma <= 2:\n",
    "        print('[Warning]: nsigma={} is recommended to be greater than 2'.format(nsigma))\n",
    "    radius = round(nsigma*sigma)\n",
    "    center = tuple([radius for i in range(dim)])\n",
    "    mask_shape = tuple([2*radius for i in range(dim)])\n",
    "    mask = np.zeros(mask_shape, dtype=np.float)\n",
    "    sig2 = sigma**2\n",
    "    coef = sigma*np.sqrt(2*np.pi)\n",
    "    for p in product(*[range(i) for i in mask_shape]):\n",
    "        d2 = sum((i-j)**2 for i, j in zip(center, p))\n",
    "        mask[p] = np.exp(-d2/sig2/2)/coef\n",
    "    mask = (mask-mask.min())/(mask.max()-mask.min()) # necessary?, yes, the output heatmap is processed with sigmoid\n",
    "\n",
    "    def genHeatmap(point, shape):\n",
    "        ret = np.zeros(shape, dtype=np.float)\n",
    "        bboxs = [(max(0, point[ax]-radius), min(shape[ax], point[ax]+radius))\n",
    "                 for ax in range(dim)]\n",
    "        img_sls = tuple([slice(i, j) for i, j in bboxs])\n",
    "        mask_begins = [max(0, radius-point[ax]) for ax in range(dim)]\n",
    "        mask_sls = tuple([slice(beg, beg+j-i)\n",
    "                          for beg, (i, j) in zip(mask_begins, bboxs)])\n",
    "        ret[img_sls] = mask[mask_sls]\n",
    "        return ret\n",
    "    return genHeatmap"
   ]
  },
  {
   "cell_type": "code",
   "execution_count": 12,
   "metadata": {},
   "outputs": [
    {
     "name": "stderr",
     "output_type": "stream",
     "text": [
      "C:\\Users\\Bxd\\AppData\\Local\\Temp\\ipykernel_34820\\3539308231.py:10: DeprecationWarning: `np.float` is a deprecated alias for the builtin `float`. To silence this warning, use `float` by itself. Doing this will not modify any behavior and is safe. If you specifically wanted the numpy scalar type, use `np.float64` here.\n",
      "Deprecated in NumPy 1.20; for more details and guidance: https://numpy.org/devdocs/release/1.20.0-notes.html#deprecations\n",
      "  mask = np.zeros(mask_shape, dtype=np.float)\n"
     ]
    },
    {
     "ename": "TypeError",
     "evalue": "Image data of dtype object cannot be converted to float",
     "output_type": "error",
     "traceback": [
      "\u001b[1;31m---------------------------------------------------------------------------\u001b[0m",
      "\u001b[1;31mTypeError\u001b[0m                                 Traceback (most recent call last)",
      "\u001b[1;32mc:\\project\\MachineLearning\\my-python\\test-heatmap.ipynb Cell 6'\u001b[0m in \u001b[0;36m<cell line: 3>\u001b[1;34m()\u001b[0m\n\u001b[0;32m      <a href='vscode-notebook-cell:/c%3A/project/MachineLearning/my-python/test-heatmap.ipynb#ch0000005?line=0'>1</a>\u001b[0m dim \u001b[39m=\u001b[39m \u001b[39m2\u001b[39m\n\u001b[0;32m      <a href='vscode-notebook-cell:/c%3A/project/MachineLearning/my-python/test-heatmap.ipynb#ch0000005?line=1'>2</a>\u001b[0m heatmap \u001b[39m=\u001b[39m gaussianHeatmap(sigma \u001b[39m=\u001b[39m \u001b[39m10\u001b[39m,dim \u001b[39m=\u001b[39m dim)\n\u001b[1;32m----> <a href='vscode-notebook-cell:/c%3A/project/MachineLearning/my-python/test-heatmap.ipynb#ch0000005?line=2'>3</a>\u001b[0m plt\u001b[39m.\u001b[39;49mimshow(heatmap)\n\u001b[0;32m      <a href='vscode-notebook-cell:/c%3A/project/MachineLearning/my-python/test-heatmap.ipynb#ch0000005?line=3'>4</a>\u001b[0m plt\u001b[39m.\u001b[39mshow()\n",
      "File \u001b[1;32mc:\\Users\\Bxd\\AppData\\Local\\Programs\\Python\\Python39\\lib\\site-packages\\matplotlib\\_api\\deprecation.py:456\u001b[0m, in \u001b[0;36mmake_keyword_only.<locals>.wrapper\u001b[1;34m(*args, **kwargs)\u001b[0m\n\u001b[0;32m    450\u001b[0m \u001b[39mif\u001b[39;00m \u001b[39mlen\u001b[39m(args) \u001b[39m>\u001b[39m name_idx:\n\u001b[0;32m    451\u001b[0m     warn_deprecated(\n\u001b[0;32m    452\u001b[0m         since, message\u001b[39m=\u001b[39m\u001b[39m\"\u001b[39m\u001b[39mPassing the \u001b[39m\u001b[39m%(name)s\u001b[39;00m\u001b[39m \u001b[39m\u001b[39m%(obj_type)s\u001b[39;00m\u001b[39m \u001b[39m\u001b[39m\"\u001b[39m\n\u001b[0;32m    453\u001b[0m         \u001b[39m\"\u001b[39m\u001b[39mpositionally is deprecated since Matplotlib \u001b[39m\u001b[39m%(since)s\u001b[39;00m\u001b[39m; the \u001b[39m\u001b[39m\"\u001b[39m\n\u001b[0;32m    454\u001b[0m         \u001b[39m\"\u001b[39m\u001b[39mparameter will become keyword-only \u001b[39m\u001b[39m%(removal)s\u001b[39;00m\u001b[39m.\u001b[39m\u001b[39m\"\u001b[39m,\n\u001b[0;32m    455\u001b[0m         name\u001b[39m=\u001b[39mname, obj_type\u001b[39m=\u001b[39m\u001b[39mf\u001b[39m\u001b[39m\"\u001b[39m\u001b[39mparameter of \u001b[39m\u001b[39m{\u001b[39;00mfunc\u001b[39m.\u001b[39m\u001b[39m__name__\u001b[39m\u001b[39m}\u001b[39;00m\u001b[39m()\u001b[39m\u001b[39m\"\u001b[39m)\n\u001b[1;32m--> 456\u001b[0m \u001b[39mreturn\u001b[39;00m func(\u001b[39m*\u001b[39margs, \u001b[39m*\u001b[39m\u001b[39m*\u001b[39mkwargs)\n",
      "File \u001b[1;32mc:\\Users\\Bxd\\AppData\\Local\\Programs\\Python\\Python39\\lib\\site-packages\\matplotlib\\pyplot.py:2640\u001b[0m, in \u001b[0;36mimshow\u001b[1;34m(X, cmap, norm, aspect, interpolation, alpha, vmin, vmax, origin, extent, interpolation_stage, filternorm, filterrad, resample, url, data, **kwargs)\u001b[0m\n\u001b[0;32m   2634\u001b[0m \u001b[39m@_copy_docstring_and_deprecators\u001b[39m(Axes\u001b[39m.\u001b[39mimshow)\n\u001b[0;32m   2635\u001b[0m \u001b[39mdef\u001b[39;00m \u001b[39mimshow\u001b[39m(\n\u001b[0;32m   2636\u001b[0m         X, cmap\u001b[39m=\u001b[39m\u001b[39mNone\u001b[39;00m, norm\u001b[39m=\u001b[39m\u001b[39mNone\u001b[39;00m, aspect\u001b[39m=\u001b[39m\u001b[39mNone\u001b[39;00m, interpolation\u001b[39m=\u001b[39m\u001b[39mNone\u001b[39;00m,\n\u001b[0;32m   2637\u001b[0m         alpha\u001b[39m=\u001b[39m\u001b[39mNone\u001b[39;00m, vmin\u001b[39m=\u001b[39m\u001b[39mNone\u001b[39;00m, vmax\u001b[39m=\u001b[39m\u001b[39mNone\u001b[39;00m, origin\u001b[39m=\u001b[39m\u001b[39mNone\u001b[39;00m, extent\u001b[39m=\u001b[39m\u001b[39mNone\u001b[39;00m, \u001b[39m*\u001b[39m,\n\u001b[0;32m   2638\u001b[0m         interpolation_stage\u001b[39m=\u001b[39m\u001b[39mNone\u001b[39;00m, filternorm\u001b[39m=\u001b[39m\u001b[39mTrue\u001b[39;00m, filterrad\u001b[39m=\u001b[39m\u001b[39m4.0\u001b[39m,\n\u001b[0;32m   2639\u001b[0m         resample\u001b[39m=\u001b[39m\u001b[39mNone\u001b[39;00m, url\u001b[39m=\u001b[39m\u001b[39mNone\u001b[39;00m, data\u001b[39m=\u001b[39m\u001b[39mNone\u001b[39;00m, \u001b[39m*\u001b[39m\u001b[39m*\u001b[39mkwargs):\n\u001b[1;32m-> 2640\u001b[0m     __ret \u001b[39m=\u001b[39m gca()\u001b[39m.\u001b[39mimshow(\n\u001b[0;32m   2641\u001b[0m         X, cmap\u001b[39m=\u001b[39mcmap, norm\u001b[39m=\u001b[39mnorm, aspect\u001b[39m=\u001b[39maspect,\n\u001b[0;32m   2642\u001b[0m         interpolation\u001b[39m=\u001b[39minterpolation, alpha\u001b[39m=\u001b[39malpha, vmin\u001b[39m=\u001b[39mvmin,\n\u001b[0;32m   2643\u001b[0m         vmax\u001b[39m=\u001b[39mvmax, origin\u001b[39m=\u001b[39morigin, extent\u001b[39m=\u001b[39mextent,\n\u001b[0;32m   2644\u001b[0m         interpolation_stage\u001b[39m=\u001b[39minterpolation_stage,\n\u001b[0;32m   2645\u001b[0m         filternorm\u001b[39m=\u001b[39mfilternorm, filterrad\u001b[39m=\u001b[39mfilterrad, resample\u001b[39m=\u001b[39mresample,\n\u001b[0;32m   2646\u001b[0m         url\u001b[39m=\u001b[39murl, \u001b[39m*\u001b[39m\u001b[39m*\u001b[39m({\u001b[39m\"\u001b[39m\u001b[39mdata\u001b[39m\u001b[39m\"\u001b[39m: data} \u001b[39mif\u001b[39;00m data \u001b[39mis\u001b[39;00m \u001b[39mnot\u001b[39;00m \u001b[39mNone\u001b[39;00m \u001b[39melse\u001b[39;00m {}),\n\u001b[0;32m   2647\u001b[0m         \u001b[39m*\u001b[39m\u001b[39m*\u001b[39mkwargs)\n\u001b[0;32m   2648\u001b[0m     sci(__ret)\n\u001b[0;32m   2649\u001b[0m     \u001b[39mreturn\u001b[39;00m __ret\n",
      "File \u001b[1;32mc:\\Users\\Bxd\\AppData\\Local\\Programs\\Python\\Python39\\lib\\site-packages\\matplotlib\\_api\\deprecation.py:456\u001b[0m, in \u001b[0;36mmake_keyword_only.<locals>.wrapper\u001b[1;34m(*args, **kwargs)\u001b[0m\n\u001b[0;32m    450\u001b[0m \u001b[39mif\u001b[39;00m \u001b[39mlen\u001b[39m(args) \u001b[39m>\u001b[39m name_idx:\n\u001b[0;32m    451\u001b[0m     warn_deprecated(\n\u001b[0;32m    452\u001b[0m         since, message\u001b[39m=\u001b[39m\u001b[39m\"\u001b[39m\u001b[39mPassing the \u001b[39m\u001b[39m%(name)s\u001b[39;00m\u001b[39m \u001b[39m\u001b[39m%(obj_type)s\u001b[39;00m\u001b[39m \u001b[39m\u001b[39m\"\u001b[39m\n\u001b[0;32m    453\u001b[0m         \u001b[39m\"\u001b[39m\u001b[39mpositionally is deprecated since Matplotlib \u001b[39m\u001b[39m%(since)s\u001b[39;00m\u001b[39m; the \u001b[39m\u001b[39m\"\u001b[39m\n\u001b[0;32m    454\u001b[0m         \u001b[39m\"\u001b[39m\u001b[39mparameter will become keyword-only \u001b[39m\u001b[39m%(removal)s\u001b[39;00m\u001b[39m.\u001b[39m\u001b[39m\"\u001b[39m,\n\u001b[0;32m    455\u001b[0m         name\u001b[39m=\u001b[39mname, obj_type\u001b[39m=\u001b[39m\u001b[39mf\u001b[39m\u001b[39m\"\u001b[39m\u001b[39mparameter of \u001b[39m\u001b[39m{\u001b[39;00mfunc\u001b[39m.\u001b[39m\u001b[39m__name__\u001b[39m\u001b[39m}\u001b[39;00m\u001b[39m()\u001b[39m\u001b[39m\"\u001b[39m)\n\u001b[1;32m--> 456\u001b[0m \u001b[39mreturn\u001b[39;00m func(\u001b[39m*\u001b[39margs, \u001b[39m*\u001b[39m\u001b[39m*\u001b[39mkwargs)\n",
      "File \u001b[1;32mc:\\Users\\Bxd\\AppData\\Local\\Programs\\Python\\Python39\\lib\\site-packages\\matplotlib\\__init__.py:1412\u001b[0m, in \u001b[0;36m_preprocess_data.<locals>.inner\u001b[1;34m(ax, data, *args, **kwargs)\u001b[0m\n\u001b[0;32m   1409\u001b[0m \u001b[39m@functools\u001b[39m\u001b[39m.\u001b[39mwraps(func)\n\u001b[0;32m   1410\u001b[0m \u001b[39mdef\u001b[39;00m \u001b[39minner\u001b[39m(ax, \u001b[39m*\u001b[39margs, data\u001b[39m=\u001b[39m\u001b[39mNone\u001b[39;00m, \u001b[39m*\u001b[39m\u001b[39m*\u001b[39mkwargs):\n\u001b[0;32m   1411\u001b[0m     \u001b[39mif\u001b[39;00m data \u001b[39mis\u001b[39;00m \u001b[39mNone\u001b[39;00m:\n\u001b[1;32m-> 1412\u001b[0m         \u001b[39mreturn\u001b[39;00m func(ax, \u001b[39m*\u001b[39m\u001b[39mmap\u001b[39m(sanitize_sequence, args), \u001b[39m*\u001b[39m\u001b[39m*\u001b[39mkwargs)\n\u001b[0;32m   1414\u001b[0m     bound \u001b[39m=\u001b[39m new_sig\u001b[39m.\u001b[39mbind(ax, \u001b[39m*\u001b[39margs, \u001b[39m*\u001b[39m\u001b[39m*\u001b[39mkwargs)\n\u001b[0;32m   1415\u001b[0m     auto_label \u001b[39m=\u001b[39m (bound\u001b[39m.\u001b[39marguments\u001b[39m.\u001b[39mget(label_namer)\n\u001b[0;32m   1416\u001b[0m                   \u001b[39mor\u001b[39;00m bound\u001b[39m.\u001b[39mkwargs\u001b[39m.\u001b[39mget(label_namer))\n",
      "File \u001b[1;32mc:\\Users\\Bxd\\AppData\\Local\\Programs\\Python\\Python39\\lib\\site-packages\\matplotlib\\axes\\_axes.py:5488\u001b[0m, in \u001b[0;36mAxes.imshow\u001b[1;34m(self, X, cmap, norm, aspect, interpolation, alpha, vmin, vmax, origin, extent, interpolation_stage, filternorm, filterrad, resample, url, **kwargs)\u001b[0m\n\u001b[0;32m   5481\u001b[0m \u001b[39mself\u001b[39m\u001b[39m.\u001b[39mset_aspect(aspect)\n\u001b[0;32m   5482\u001b[0m im \u001b[39m=\u001b[39m mimage\u001b[39m.\u001b[39mAxesImage(\u001b[39mself\u001b[39m, cmap, norm, interpolation,\n\u001b[0;32m   5483\u001b[0m                       origin, extent, filternorm\u001b[39m=\u001b[39mfilternorm,\n\u001b[0;32m   5484\u001b[0m                       filterrad\u001b[39m=\u001b[39mfilterrad, resample\u001b[39m=\u001b[39mresample,\n\u001b[0;32m   5485\u001b[0m                       interpolation_stage\u001b[39m=\u001b[39minterpolation_stage,\n\u001b[0;32m   5486\u001b[0m                       \u001b[39m*\u001b[39m\u001b[39m*\u001b[39mkwargs)\n\u001b[1;32m-> 5488\u001b[0m im\u001b[39m.\u001b[39;49mset_data(X)\n\u001b[0;32m   5489\u001b[0m im\u001b[39m.\u001b[39mset_alpha(alpha)\n\u001b[0;32m   5490\u001b[0m \u001b[39mif\u001b[39;00m im\u001b[39m.\u001b[39mget_clip_path() \u001b[39mis\u001b[39;00m \u001b[39mNone\u001b[39;00m:\n\u001b[0;32m   5491\u001b[0m     \u001b[39m# image does not already have clipping set, clip to axes patch\u001b[39;00m\n",
      "File \u001b[1;32mc:\\Users\\Bxd\\AppData\\Local\\Programs\\Python\\Python39\\lib\\site-packages\\matplotlib\\image.py:706\u001b[0m, in \u001b[0;36m_ImageBase.set_data\u001b[1;34m(self, A)\u001b[0m\n\u001b[0;32m    702\u001b[0m \u001b[39mself\u001b[39m\u001b[39m.\u001b[39m_A \u001b[39m=\u001b[39m cbook\u001b[39m.\u001b[39msafe_masked_invalid(A, copy\u001b[39m=\u001b[39m\u001b[39mTrue\u001b[39;00m)\n\u001b[0;32m    704\u001b[0m \u001b[39mif\u001b[39;00m (\u001b[39mself\u001b[39m\u001b[39m.\u001b[39m_A\u001b[39m.\u001b[39mdtype \u001b[39m!=\u001b[39m np\u001b[39m.\u001b[39muint8 \u001b[39mand\u001b[39;00m\n\u001b[0;32m    705\u001b[0m         \u001b[39mnot\u001b[39;00m np\u001b[39m.\u001b[39mcan_cast(\u001b[39mself\u001b[39m\u001b[39m.\u001b[39m_A\u001b[39m.\u001b[39mdtype, \u001b[39mfloat\u001b[39m, \u001b[39m\"\u001b[39m\u001b[39msame_kind\u001b[39m\u001b[39m\"\u001b[39m)):\n\u001b[1;32m--> 706\u001b[0m     \u001b[39mraise\u001b[39;00m \u001b[39mTypeError\u001b[39;00m(\u001b[39m\"\u001b[39m\u001b[39mImage data of dtype \u001b[39m\u001b[39m{}\u001b[39;00m\u001b[39m cannot be converted to \u001b[39m\u001b[39m\"\u001b[39m\n\u001b[0;32m    707\u001b[0m                     \u001b[39m\"\u001b[39m\u001b[39mfloat\u001b[39m\u001b[39m\"\u001b[39m\u001b[39m.\u001b[39mformat(\u001b[39mself\u001b[39m\u001b[39m.\u001b[39m_A\u001b[39m.\u001b[39mdtype))\n\u001b[0;32m    709\u001b[0m \u001b[39mif\u001b[39;00m \u001b[39mself\u001b[39m\u001b[39m.\u001b[39m_A\u001b[39m.\u001b[39mndim \u001b[39m==\u001b[39m \u001b[39m3\u001b[39m \u001b[39mand\u001b[39;00m \u001b[39mself\u001b[39m\u001b[39m.\u001b[39m_A\u001b[39m.\u001b[39mshape[\u001b[39m-\u001b[39m\u001b[39m1\u001b[39m] \u001b[39m==\u001b[39m \u001b[39m1\u001b[39m:\n\u001b[0;32m    710\u001b[0m     \u001b[39m# If just one dimension assume scalar and apply colormap\u001b[39;00m\n\u001b[0;32m    711\u001b[0m     \u001b[39mself\u001b[39m\u001b[39m.\u001b[39m_A \u001b[39m=\u001b[39m \u001b[39mself\u001b[39m\u001b[39m.\u001b[39m_A[:, :, \u001b[39m0\u001b[39m]\n",
      "\u001b[1;31mTypeError\u001b[0m: Image data of dtype object cannot be converted to float"
     ]
    },
    {
     "data": {
      "image/png": "[encoded data removed]",
      "text/plain": [
       "<Figure size 432x288 with 1 Axes>"
      ]
     },
     "metadata": {
      "needs_background": "light"
     },
     "output_type": "display_data"
    }
   ],
   "source": [
    "dim = 2\n",
    "heatmap = gaussianHeatmap(sigma = 10,dim = dim)\n",
    "plt.imshow(heatmap)\n",
    "plt.show()"
   ]
  },
  {
   "cell_type": "code",
   "execution_count": 18,
   "metadata": {},
   "outputs": [
    {
     "name": "stdout",
     "output_type": "stream",
     "text": [
      "(18, 18)\n",
      "[[1.64111296e-05 4.21993231e-05 9.70996251e-05 1.99928487e-04\n",
      "  3.68363730e-04 6.07329117e-04 8.96017314e-04 1.18291560e-03\n",
      "  1.39744966e-03 1.47728280e-03 1.39744966e-03 1.18291560e-03\n",
      "  8.96017314e-04 6.07329117e-04 3.68363730e-04 1.99928487e-04\n",
      "  9.70996251e-05 4.21993231e-05]\n",
      " [4.21993231e-05 1.08510683e-04 2.49680464e-04 5.14092999e-04\n",
      "  9.47204762e-04 1.56167664e-03 2.30400497e-03 3.04173075e-03\n",
      "  3.59338030e-03 3.79866201e-03 3.59338030e-03 3.04173075e-03\n",
      "  2.30400497e-03 1.56167664e-03 9.47204762e-04 5.14092999e-04\n",
      "  2.49680464e-04 1.08510683e-04]\n",
      " [9.70996251e-05 2.49680464e-04 5.74508729e-04 1.18291560e-03\n",
      "  2.17949532e-03 3.59338030e-03 5.30145990e-03 6.99894912e-03\n",
      "  8.26828143e-03 8.74062970e-03 8.26828143e-03 6.99894912e-03\n",
      "  5.30145990e-03 3.59338030e-03 2.17949532e-03 1.18291560e-03\n",
      "  5.74508729e-04 2.49680464e-04]\n",
      " [1.99928487e-04 5.14092999e-04 1.18291560e-03 2.43562758e-03\n",
      "  4.48758892e-03 7.39878330e-03 1.09157255e-02 1.44108621e-02\n",
      "  1.70244220e-02 1.79969888e-02 1.70244220e-02 1.44108621e-02\n",
      "  1.09157255e-02 7.39878330e-03 4.48758892e-03 2.43562758e-03\n",
      "  1.18291560e-03 5.14092999e-04]\n",
      " [3.68363730e-04 9.47204762e-04 2.17949532e-03 4.48758892e-03\n",
      "  8.26828143e-03 1.36320915e-02 2.01119782e-02 2.65516886e-02\n",
      "  3.13671138e-02 3.31590463e-02 3.13671138e-02 2.65516886e-02\n",
      "  2.01119782e-02 1.36320915e-02 8.26828143e-03 4.48758892e-03\n",
      "  2.17949532e-03 9.47204762e-04]\n",
      " [6.07329117e-04 1.56167664e-03 3.59338030e-03 7.39878330e-03\n",
      "  1.36320915e-02 2.24755192e-02 3.31590463e-02 4.37763337e-02\n",
      "  5.17156277e-02 5.46700249e-02 5.17156277e-02 4.37763337e-02\n",
      "  3.31590463e-02 2.24755192e-02 1.36320915e-02 7.39878330e-03\n",
      "  3.59338030e-03 1.56167664e-03]\n",
      " [8.96017314e-04 2.30400497e-03 5.30145990e-03 1.09157255e-02\n",
      "  2.01119782e-02 3.31590463e-02 4.89208877e-02 6.45850032e-02\n",
      "  7.62981660e-02 8.06569082e-02 7.62981660e-02 6.45850032e-02\n",
      "  4.89208877e-02 3.31590463e-02 2.01119782e-02 1.09157255e-02\n",
      "  5.30145990e-03 2.30400497e-03]\n",
      " [1.18291560e-03 3.04173075e-03 6.99894912e-03 1.44108621e-02\n",
      "  2.65516886e-02 4.37763337e-02 6.45850032e-02 8.52646554e-02\n",
      "  1.00728289e-01 1.06482669e-01 1.00728289e-01 8.52646554e-02\n",
      "  6.45850032e-02 4.37763337e-02 2.65516886e-02 1.44108621e-02\n",
      "  6.99894912e-03 3.04173075e-03]\n",
      " [1.39744966e-03 3.59338030e-03 8.26828143e-03 1.70244220e-02\n",
      "  3.13671138e-02 5.17156277e-02 7.62981660e-02 1.00728289e-01\n",
      "  1.18996413e-01 1.25794409e-01 1.18996413e-01 1.00728289e-01\n",
      "  7.62981660e-02 5.17156277e-02 3.13671138e-02 1.70244220e-02\n",
      "  8.26828143e-03 3.59338030e-03]\n",
      " [1.47728280e-03 3.79866201e-03 8.74062970e-03 1.79969888e-02\n",
      "  3.31590463e-02 5.46700249e-02 8.06569082e-02 1.06482669e-01\n",
      "  1.25794409e-01 1.32980760e-01 1.25794409e-01 1.06482669e-01\n",
      "  8.06569082e-02 5.46700249e-02 3.31590463e-02 1.79969888e-02\n",
      "  8.74062970e-03 3.79866201e-03]\n",
      " [1.39744966e-03 3.59338030e-03 8.26828143e-03 1.70244220e-02\n",
      "  3.13671138e-02 5.17156277e-02 7.62981660e-02 1.00728289e-01\n",
      "  1.18996413e-01 1.25794409e-01 1.18996413e-01 1.00728289e-01\n",
      "  7.62981660e-02 5.17156277e-02 3.13671138e-02 1.70244220e-02\n",
      "  8.26828143e-03 3.59338030e-03]\n",
      " [1.18291560e-03 3.04173075e-03 6.99894912e-03 1.44108621e-02\n",
      "  2.65516886e-02 4.37763337e-02 6.45850032e-02 8.52646554e-02\n",
      "  1.00728289e-01 1.06482669e-01 1.00728289e-01 8.52646554e-02\n",
      "  6.45850032e-02 4.37763337e-02 2.65516886e-02 1.44108621e-02\n",
      "  6.99894912e-03 3.04173075e-03]\n",
      " [8.96017314e-04 2.30400497e-03 5.30145990e-03 1.09157255e-02\n",
      "  2.01119782e-02 3.31590463e-02 4.89208877e-02 6.45850032e-02\n",
      "  7.62981660e-02 8.06569082e-02 7.62981660e-02 6.45850032e-02\n",
      "  4.89208877e-02 3.31590463e-02 2.01119782e-02 1.09157255e-02\n",
      "  5.30145990e-03 2.30400497e-03]\n",
      " [6.07329117e-04 1.56167664e-03 3.59338030e-03 7.39878330e-03\n",
      "  1.36320915e-02 2.24755192e-02 3.31590463e-02 4.37763337e-02\n",
      "  5.17156277e-02 5.46700249e-02 5.17156277e-02 4.37763337e-02\n",
      "  3.31590463e-02 2.24755192e-02 1.36320915e-02 7.39878330e-03\n",
      "  3.59338030e-03 1.56167664e-03]\n",
      " [3.68363730e-04 9.47204762e-04 2.17949532e-03 4.48758892e-03\n",
      "  8.26828143e-03 1.36320915e-02 2.01119782e-02 2.65516886e-02\n",
      "  3.13671138e-02 3.31590463e-02 3.13671138e-02 2.65516886e-02\n",
      "  2.01119782e-02 1.36320915e-02 8.26828143e-03 4.48758892e-03\n",
      "  2.17949532e-03 9.47204762e-04]\n",
      " [1.99928487e-04 5.14092999e-04 1.18291560e-03 2.43562758e-03\n",
      "  4.48758892e-03 7.39878330e-03 1.09157255e-02 1.44108621e-02\n",
      "  1.70244220e-02 1.79969888e-02 1.70244220e-02 1.44108621e-02\n",
      "  1.09157255e-02 7.39878330e-03 4.48758892e-03 2.43562758e-03\n",
      "  1.18291560e-03 5.14092999e-04]\n",
      " [9.70996251e-05 2.49680464e-04 5.74508729e-04 1.18291560e-03\n",
      "  2.17949532e-03 3.59338030e-03 5.30145990e-03 6.99894912e-03\n",
      "  8.26828143e-03 8.74062970e-03 8.26828143e-03 6.99894912e-03\n",
      "  5.30145990e-03 3.59338030e-03 2.17949532e-03 1.18291560e-03\n",
      "  5.74508729e-04 2.49680464e-04]\n",
      " [4.21993231e-05 1.08510683e-04 2.49680464e-04 5.14092999e-04\n",
      "  9.47204762e-04 1.56167664e-03 2.30400497e-03 3.04173075e-03\n",
      "  3.59338030e-03 3.79866201e-03 3.59338030e-03 3.04173075e-03\n",
      "  2.30400497e-03 1.56167664e-03 9.47204762e-04 5.14092999e-04\n",
      "  2.49680464e-04 1.08510683e-04]]\n"
     ]
    },
    {
     "name": "stderr",
     "output_type": "stream",
     "text": [
      "C:\\Users\\Bxd\\AppData\\Local\\Temp\\ipykernel_34820\\536561814.py:6: DeprecationWarning: `np.float` is a deprecated alias for the builtin `float`. To silence this warning, use `float` by itself. Doing this will not modify any behavior and is safe. If you specifically wanted the numpy scalar type, use `np.float64` here.\n",
      "Deprecated in NumPy 1.20; for more details and guidance: https://numpy.org/devdocs/release/1.20.0-notes.html#deprecations\n",
      "  mask = np.zeros(mask_shape, dtype=np.float)\n"
     ]
    },
    {
     "data": {
      "image/png": "[encoded data removed]",
      "text/plain": [
       "<Figure size 432x288 with 1 Axes>"
      ]
     },
     "metadata": {
      "needs_background": "light"
     },
     "output_type": "display_data"
    }
   ],
   "source": [
    "sigma = 3\n",
    "nsigma = 3\n",
    "radius = 9\n",
    "center = (9,9)\n",
    "mask_shape = (tuple([2*radius for i in range(dim)]))\n",
    "mask = np.zeros(mask_shape, dtype=np.float)\n",
    "sig2 = sigma**2\n",
    "coef = sigma*np.sqrt(2*np.pi)\n",
    "for p in product(*[range(i) for i in mask_shape]):\n",
    "    d2 = sum((i-j)**2 for i, j in zip(center, p))\n",
    "    mask[p] = np.exp(-d2/sig2/2)/coef\n",
    "    #mask = (mask-mask.min())/(mask.max()-mask.min()) # necessary?, yes, the output heatmap is processed with sigmoid\n",
    "print(mask_shape)\n",
    "print(mask)\n",
    "plt.imshow(mask)\n",
    "plt.show()"
   ]
  },
  {
   "cell_type": "code",
   "execution_count": 21,
   "metadata": {},
   "outputs": [
    {
     "name": "stdout",
     "output_type": "stream",
     "text": [
      "(slice(102, 120, None), slice(481, 499, None))\n"
     ]
    },
    {
     "name": "stderr",
     "output_type": "stream",
     "text": [
      "C:\\Users\\Bxd\\AppData\\Local\\Temp\\ipykernel_34820\\296005416.py:3: DeprecationWarning: `np.float` is a deprecated alias for the builtin `float`. To silence this warning, use `float` by itself. Doing this will not modify any behavior and is safe. If you specifically wanted the numpy scalar type, use `np.float64` here.\n",
      "Deprecated in NumPy 1.20; for more details and guidance: https://numpy.org/devdocs/release/1.20.0-notes.html#deprecations\n",
      "  ret = np.zeros(shape, dtype=np.float)\n"
     ]
    },
    {
     "data": {
      "image/png": "[encoded data removed]",
      "text/plain": [
       "<Figure size 432x288 with 1 Axes>"
      ]
     },
     "metadata": {
      "needs_background": "light"
     },
     "output_type": "display_data"
    }
   ],
   "source": [
    "point = (111,490)\n",
    "shape = [368,512]\n",
    "ret = np.zeros(shape, dtype=np.float)\n",
    "bboxs = [(102, 120), (481, 499)]\n",
    "img_sls = tuple([slice(i, j) for i, j in bboxs])\n",
    "print(img_sls)\n",
    "mask_begins = [max(0, radius-point[ax]) for ax in range(dim)]\n",
    "print(mask_begins)\n",
    "mask_sls = tuple([slice(beg, beg+j-i)\n",
    "                for beg, (i, j) in zip(mask_begins, bboxs)])\n",
    "print(mask_sls)                      \n",
    "ret[img_sls] = mask[mask_sls]\n",
    "\n",
    "plt.imshow(ret)\n",
    "plt.show()"
   ]
  }
 ],
 "metadata": {
  "kernelspec": {
   "display_name": "Python 3.9.7 64-bit",
   "language": "python",
   "name": "python3"
  },
  "language_info": {
   "codemirror_mode": {
    "name": "ipython",
    "version": 3
   },
   "file_extension": ".py",
   "mimetype": "text/x-python",
   "name": "python",
   "nbconvert_exporter": "python",
   "pygments_lexer": "ipython3",
   "version": "3.9.7"
  },
  "orig_nbformat": 4,
  "vscode": {
   "interpreter": {
    "hash": "ba45e27760c94426147f9bc5e8c57e17d8e3b854dbc6baa3a3746a118bf19da6"
   }
  }
 },
 "nbformat": 4,
 "nbformat_minor": 2
}
