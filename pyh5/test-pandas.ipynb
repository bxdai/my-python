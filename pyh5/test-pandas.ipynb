{
 "cells": [
  {
   "cell_type": "code",
   "execution_count": 4,
   "source": [
    "import pandas as pd\r\n",
    "t1 =pd.read_csv('data/spec_1_lands.csv')\r\n",
    "print(t1)\r\n",
    "print(type(t1))"
   ],
   "outputs": [
    {
     "output_type": "stream",
     "name": "stdout",
     "text": [
      "      pat  proj  land  row  col      time\n",
      "0       1     0     0  132  171  0.009423\n",
      "1       1     0     1  132   25  0.000817\n",
      "2       1     0     2   79  160  0.000561\n",
      "3       1     0     3   81   38  0.000404\n",
      "4       1     0     4  169  137  0.000411\n",
      "...   ...   ...   ...  ...  ...       ...\n",
      "1549    1   110     9  155   59  0.000336\n",
      "1550    1   110    10  170   68  0.000327\n",
      "1551    1   110    11  170   62  0.000336\n",
      "1552    1   110    12   -1   -1  0.000330\n",
      "1553    1   110    13   -1   -1  0.000337\n",
      "\n",
      "[1554 rows x 6 columns]\n",
      "<class 'pandas.core.frame.DataFrame'>\n"
     ]
    }
   ],
   "metadata": {}
  },
  {
   "cell_type": "code",
   "execution_count": null,
   "source": [],
   "outputs": [],
   "metadata": {}
  }
 ],
 "metadata": {
  "orig_nbformat": 4,
  "language_info": {
   "name": "python",
   "version": "3.9.1",
   "mimetype": "text/x-python",
   "codemirror_mode": {
    "name": "ipython",
    "version": 3
   },
   "pygments_lexer": "ipython3",
   "nbconvert_exporter": "python",
   "file_extension": ".py"
  },
  "kernelspec": {
   "name": "python3",
   "display_name": "Python 3.9.1 64-bit"
  },
  "interpreter": {
   "hash": "70f3c038ccd4929d4f5e3f1b4e72d58d2d31a35463a2e52dc84c448bb4aefeb0"
  }
 },
 "nbformat": 4,
 "nbformat_minor": 2
}