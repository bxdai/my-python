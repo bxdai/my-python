{
 "cells": [
  {
   "cell_type": "markdown",
   "source": [
    "版权声明：本文为CSDN博主「千千Sama」的原创文章，遵循CC 4.0 BY-SA版权协议，转载请附上原文出处链接及本声明。  \r\n",
    "[原文链接](：https://blog.csdn.net/lllxxq141592654/article/details/81532855)"
   ],
   "metadata": {}
  },
  {
   "cell_type": "code",
   "execution_count": 1,
   "source": [
    "import numpy as np\r\n",
    "import matplotlib.pyplot as plt\r\n",
    "\r\n",
    "x = np.array([[0, 1, 2], [0, 1, 2]])\r\n",
    "y = np.array([[0, 0, 0], [1, 1, 1]])\r\n",
    "\r\n",
    "\r\n",
    "# plt.plot(x, y,\r\n",
    "#          color='red',  # 全部点设置为红色\r\n",
    "#          marker='.',  # 点的形状为圆点\r\n",
    "#          linestyle='')  # 线型为空，也即点与点之间不用线连接\r\n",
    "\r\n",
    "\r\n",
    "plt.plot(x, y,\r\n",
    "         marker='.',  # 点的形状为圆点\r\n",
    "         markersize=10,  # 点设置大一点，看着清楚\r\n",
    "         linestyle='-.')  # 线型为点划线\r\n",
    "\r\n",
    "\r\n",
    "plt.grid(True)\r\n",
    "plt.show()\r\n"
   ],
   "outputs": [
    {
     "output_type": "display_data",
     "data": {
      "image/png": "[encoded data removed]",
      "text/plain": [
       "<Figure size 432x288 with 1 Axes>"
      ]
     },
     "metadata": {
      "needs_background": "light"
     }
    }
   ],
   "metadata": {}
  },
  {
   "cell_type": "code",
   "execution_count": 2,
   "source": [
    "import numpy as np\r\n",
    "import matplotlib.pyplot as plt\r\n",
    "\r\n",
    "x = np.array([0, 1, 2])\r\n",
    "y = np.array([0, 1])\r\n",
    "\r\n",
    "X, Y = np.meshgrid(x, y)\r\n",
    "print(X)\r\n",
    "print(Y)\r\n",
    "\r\n",
    "\r\n",
    "plt.plot(X, Y,\r\n",
    "         color='red',  # 全部点设置为红色\r\n",
    "         marker='.',  # 点的形状为圆点\r\n",
    "         linestyle='')  # 线型为空，也即点与点之间不用线连接\r\n",
    "plt.grid(True)\r\n",
    "plt.show()"
   ],
   "outputs": [
    {
     "output_type": "stream",
     "name": "stdout",
     "text": [
      "[[0 1 2]\n",
      " [0 1 2]]\n",
      "[[0 0 0]\n",
      " [1 1 1]]\n"
     ]
    },
    {
     "output_type": "display_data",
     "data": {
      "image/png": "[encoded data removed]",
      "text/plain": [
       "<Figure size 432x288 with 1 Axes>"
      ]
     },
     "metadata": {
      "needs_background": "light"
     }
    }
   ],
   "metadata": {}
  },
  {
   "cell_type": "code",
   "execution_count": 3,
   "source": [
    "import numpy as np\r\n",
    "import matplotlib.pyplot as plt\r\n",
    "\r\n",
    "x = np.linspace(0,1000,20)\r\n",
    "y = np.linspace(0,500,20)\r\n",
    "\r\n",
    "X,Y = np.meshgrid(x, y)\r\n",
    "\r\n",
    "plt.plot(X, Y,\r\n",
    "         color='limegreen',  # 设置颜色为limegreen\r\n",
    "         marker='.',  # 设置点类型为圆点\r\n",
    "         linestyle='')  # 设置线型为空，也即没有线连接点\r\n",
    "plt.grid(True)\r\n",
    "plt.show()\r\n"
   ],
   "outputs": [
    {
     "output_type": "display_data",
     "data": {
      "image/png": "[encoded data removed]",
      "text/plain": [
       "<Figure size 432x288 with 1 Axes>"
      ]
     },
     "metadata": {
      "needs_background": "light"
     }
    }
   ],
   "metadata": {}
  },
  {
   "cell_type": "code",
   "execution_count": 4,
   "source": [
    "import torch\r\n",
    "torch.arange(0,25)"
   ],
   "outputs": [
    {
     "output_type": "execute_result",
     "data": {
      "text/plain": [
       "tensor([ 0,  1,  2,  3,  4,  5,  6,  7,  8,  9, 10, 11, 12, 13, 14, 15, 16, 17,\n",
       "        18, 19, 20, 21, 22, 23, 24])"
      ]
     },
     "metadata": {},
     "execution_count": 4
    }
   ],
   "metadata": {}
  },
  {
   "cell_type": "code",
   "execution_count": 6,
   "source": [
    "    import math\r\n",
    "    math.inf\r\n",
    "\r\n"
   ],
   "outputs": [
    {
     "output_type": "execute_result",
     "data": {
      "text/plain": [
       "inf"
      ]
     },
     "metadata": {},
     "execution_count": 6
    }
   ],
   "metadata": {}
  },
  {
   "cell_type": "markdown",
   "source": [
    "numpy.unravel_index()函数的用法 https://www.cnblogs.com/lucas-zhao/p/11792365.html"
   ],
   "metadata": {}
  },
  {
   "cell_type": "code",
   "execution_count": 12,
   "source": [
    "import numpy as np\r\n",
    "A = np.random.randint(1,100,size=(2,3,5))\r\n",
    "\r\n",
    "print(A,A.shape)\r\n",
    "\r\n",
    "\r\n",
    "print(A.flatten())\r\n",
    "ind_max = np.argmax(A)\r\n",
    "print(ind_max)\r\n",
    "# 此时得到的索引是将A数组flattern(展成一维数组)后的索引，如何得到对应的原数组的索引呢？\r\n",
    "\r\n",
    "\r\n",
    "ind_max_src = np.unravel_index(ind_max, A.shape)\r\n",
    "print(ind_max_src)\r\n",
    "#(1, 0, 3)\r\n",
    "# 函数numpy.unravel_index(indices, dims)返回的索引值从0开始计数。\r\n",
    "print(A[ind_max_src])\r\n",
    "#99"
   ],
   "outputs": [
    {
     "output_type": "stream",
     "name": "stdout",
     "text": [
      "[[[81 65 10 61  1]\n",
      "  [41 20 55  7 64]\n",
      "  [12 54 99  6 33]]\n",
      "\n",
      " [[81 22 52 24 17]\n",
      "  [29 92 14 57 62]\n",
      "  [ 1 64 72 22 47]]] (2, 3, 5)\n",
      "[81 65 10 61  1 41 20 55  7 64 12 54 99  6 33 81 22 52 24 17 29 92 14 57\n",
      " 62  1 64 72 22 47]\n",
      "12\n",
      "(0, 2, 2)\n",
      "99\n"
     ]
    }
   ],
   "metadata": {}
  },
  {
   "cell_type": "code",
   "execution_count": 31,
   "source": [
    "for i in range(10):\r\n",
    "    print(\"img-{:02d}\".format(i))\r\n",
    "    print(\"img-%02d\" % i)\r\n",
    "    print(os.path.join(os.getcwd(), 'lands\\%03d.csv' % i))"
   ],
   "outputs": [
    {
     "output_type": "stream",
     "name": "stdout",
     "text": [
      "img-00\n",
      "img-00\n",
      "f:\\v3r\\study\\AI\\xindong\\output\\lands\\000.csv\n",
      "img-01\n",
      "img-01\n",
      "f:\\v3r\\study\\AI\\xindong\\output\\lands\\001.csv\n",
      "img-02\n",
      "img-02\n",
      "f:\\v3r\\study\\AI\\xindong\\output\\lands\\002.csv\n",
      "img-03\n",
      "img-03\n",
      "f:\\v3r\\study\\AI\\xindong\\output\\lands\\003.csv\n",
      "img-04\n",
      "img-04\n",
      "f:\\v3r\\study\\AI\\xindong\\output\\lands\\004.csv\n",
      "img-05\n",
      "img-05\n",
      "f:\\v3r\\study\\AI\\xindong\\output\\lands\\005.csv\n",
      "img-06\n",
      "img-06\n",
      "f:\\v3r\\study\\AI\\xindong\\output\\lands\\006.csv\n",
      "img-07\n",
      "img-07\n",
      "f:\\v3r\\study\\AI\\xindong\\output\\lands\\007.csv\n",
      "img-08\n",
      "img-08\n",
      "f:\\v3r\\study\\AI\\xindong\\output\\lands\\008.csv\n",
      "img-09\n",
      "img-09\n",
      "f:\\v3r\\study\\AI\\xindong\\output\\lands\\009.csv\n"
     ]
    }
   ],
   "metadata": {}
  },
  {
   "cell_type": "code",
   "execution_count": 3,
   "source": [
    "import torch\r\n",
    "torch.full([2,3], 2.5)"
   ],
   "outputs": [
    {
     "output_type": "execute_result",
     "data": {
      "text/plain": [
       "tensor([[2.5000, 2.5000, 2.5000],\n",
       "        [2.5000, 2.5000, 2.5000]])"
      ]
     },
     "metadata": {},
     "execution_count": 3
    }
   ],
   "metadata": {}
  },
  {
   "cell_type": "code",
   "execution_count": 4,
   "source": [
    "n = 0.5\r\n",
    "n > 0"
   ],
   "outputs": [
    {
     "output_type": "execute_result",
     "data": {
      "text/plain": [
       "True"
      ]
     },
     "metadata": {},
     "execution_count": 4
    }
   ],
   "metadata": {}
  },
  {
   "cell_type": "code",
   "execution_count": 6,
   "source": [
    "def test():\r\n",
    "    a = 1\r\n",
    "    b = 'hello world'\r\n",
    "    def hello():\r\n",
    "        print(b)\r\n",
    "    hello()\r\n",
    "\r\n",
    "test()"
   ],
   "outputs": [
    {
     "output_type": "stream",
     "name": "stdout",
     "text": [
      "hello world\n"
     ]
    }
   ],
   "metadata": {}
  },
  {
   "cell_type": "code",
   "execution_count": 82,
   "source": [
    "n = 1067\r\n",
    "v = 960\r\n",
    "round((n-v)/2)\r\n",
    "a = np.zeros((1067,978))\r\n",
    "x = a[53:-54,9:-9]\r\n",
    "print(x.shape)\r\n"
   ],
   "outputs": [
    {
     "output_type": "stream",
     "name": "stdout",
     "text": [
      "(960, 960)\n"
     ]
    }
   ],
   "metadata": {}
  },
  {
   "cell_type": "code",
   "execution_count": 81,
   "source": [
    "m =np.random.randint(1,10,(10))\r\n",
    "m = m[:-3]\r\n",
    "print(m.shape)\r\n"
   ],
   "outputs": [
    {
     "output_type": "stream",
     "name": "stdout",
     "text": [
      "(7,)\n"
     ]
    }
   ],
   "metadata": {}
  },
  {
   "cell_type": "code",
   "execution_count": 60,
   "source": [
    "t4d = torch.empty(3, 3, 4, 2)\r\n",
    "p1d = (1, 1) # pad last dim by 1 on each side\r\n",
    "out = TF.pad(t4d, p1d, \"reflect\", 0)  # effectively zero padding\r\n",
    "print(out.size())\r\n",
    "\r\n",
    "p2d = (1, 1, 2, 2) # pad last dim by (1, 1) and 2nd to last by (2, 2)\r\n",
    "out = TF.pad(t4d, p2d, \"reflect\", 0)\r\n",
    "print(out.size())\r\n",
    "\r\n",
    "t4d = torch.empty(3, 3, 4, 2)\r\n",
    "p3d = (0, 1, 2, 1, 3, 3) # pad by (0, 1), (2, 1), and (3, 3)\r\n",
    "out = TF.pad(t4d, p3d, \"reflect\", 0)\r\n",
    "print(out.size())\r\n"
   ],
   "outputs": [
    {
     "output_type": "error",
     "ename": "AssertionError",
     "evalue": "4D tensors expect 4 values for padding",
     "traceback": [
      "\u001b[1;31m---------------------------------------------------------------------------\u001b[0m",
      "\u001b[1;31mAssertionError\u001b[0m                            Traceback (most recent call last)",
      "\u001b[1;32m<ipython-input-60-434734f942c6>\u001b[0m in \u001b[0;36m<module>\u001b[1;34m\u001b[0m\n\u001b[0;32m      1\u001b[0m \u001b[0mt4d\u001b[0m \u001b[1;33m=\u001b[0m \u001b[0mtorch\u001b[0m\u001b[1;33m.\u001b[0m\u001b[0mempty\u001b[0m\u001b[1;33m(\u001b[0m\u001b[1;36m3\u001b[0m\u001b[1;33m,\u001b[0m \u001b[1;36m3\u001b[0m\u001b[1;33m,\u001b[0m \u001b[1;36m4\u001b[0m\u001b[1;33m,\u001b[0m \u001b[1;36m2\u001b[0m\u001b[1;33m)\u001b[0m\u001b[1;33m\u001b[0m\u001b[1;33m\u001b[0m\u001b[0m\n\u001b[0;32m      2\u001b[0m \u001b[0mp1d\u001b[0m \u001b[1;33m=\u001b[0m \u001b[1;33m(\u001b[0m\u001b[1;36m1\u001b[0m\u001b[1;33m,\u001b[0m \u001b[1;36m1\u001b[0m\u001b[1;33m)\u001b[0m \u001b[1;31m# pad last dim by 1 on each side\u001b[0m\u001b[1;33m\u001b[0m\u001b[1;33m\u001b[0m\u001b[0m\n\u001b[1;32m----> 3\u001b[1;33m \u001b[0mout\u001b[0m \u001b[1;33m=\u001b[0m \u001b[0mTF\u001b[0m\u001b[1;33m.\u001b[0m\u001b[0mpad\u001b[0m\u001b[1;33m(\u001b[0m\u001b[0mt4d\u001b[0m\u001b[1;33m,\u001b[0m \u001b[0mp1d\u001b[0m\u001b[1;33m,\u001b[0m \u001b[1;34m\"reflect\"\u001b[0m\u001b[1;33m,\u001b[0m \u001b[1;36m0\u001b[0m\u001b[1;33m)\u001b[0m  \u001b[1;31m# effectively zero padding\u001b[0m\u001b[1;33m\u001b[0m\u001b[1;33m\u001b[0m\u001b[0m\n\u001b[0m\u001b[0;32m      4\u001b[0m \u001b[0mprint\u001b[0m\u001b[1;33m(\u001b[0m\u001b[0mout\u001b[0m\u001b[1;33m.\u001b[0m\u001b[0msize\u001b[0m\u001b[1;33m(\u001b[0m\u001b[1;33m)\u001b[0m\u001b[1;33m)\u001b[0m\u001b[1;33m\u001b[0m\u001b[1;33m\u001b[0m\u001b[0m\n\u001b[0;32m      5\u001b[0m \u001b[1;33m\u001b[0m\u001b[0m\n",
      "\u001b[1;32m~\\AppData\\Local\\Programs\\Python\\Python39\\lib\\site-packages\\torch\\nn\\functional.py\u001b[0m in \u001b[0;36m_pad\u001b[1;34m(input, pad, mode, value)\u001b[0m\n\u001b[0;32m   4166\u001b[0m \u001b[1;33m\u001b[0m\u001b[0m\n\u001b[0;32m   4167\u001b[0m         \u001b[1;32melif\u001b[0m \u001b[0minput\u001b[0m\u001b[1;33m.\u001b[0m\u001b[0mdim\u001b[0m\u001b[1;33m(\u001b[0m\u001b[1;33m)\u001b[0m \u001b[1;33m==\u001b[0m \u001b[1;36m4\u001b[0m\u001b[1;33m:\u001b[0m\u001b[1;33m\u001b[0m\u001b[1;33m\u001b[0m\u001b[0m\n\u001b[1;32m-> 4168\u001b[1;33m             \u001b[1;32massert\u001b[0m \u001b[0mlen\u001b[0m\u001b[1;33m(\u001b[0m\u001b[0mpad\u001b[0m\u001b[1;33m)\u001b[0m \u001b[1;33m==\u001b[0m \u001b[1;36m4\u001b[0m\u001b[1;33m,\u001b[0m \u001b[1;34m\"4D tensors expect 4 values for padding\"\u001b[0m\u001b[1;33m\u001b[0m\u001b[1;33m\u001b[0m\u001b[0m\n\u001b[0m\u001b[0;32m   4169\u001b[0m             \u001b[1;32mif\u001b[0m \u001b[0mmode\u001b[0m \u001b[1;33m==\u001b[0m \u001b[1;34m\"reflect\"\u001b[0m\u001b[1;33m:\u001b[0m\u001b[1;33m\u001b[0m\u001b[1;33m\u001b[0m\u001b[0m\n\u001b[0;32m   4170\u001b[0m                 \u001b[1;32mreturn\u001b[0m \u001b[0mtorch\u001b[0m\u001b[1;33m.\u001b[0m\u001b[0m_C\u001b[0m\u001b[1;33m.\u001b[0m\u001b[0m_nn\u001b[0m\u001b[1;33m.\u001b[0m\u001b[0mreflection_pad2d\u001b[0m\u001b[1;33m(\u001b[0m\u001b[0minput\u001b[0m\u001b[1;33m,\u001b[0m \u001b[0mpad\u001b[0m\u001b[1;33m)\u001b[0m\u001b[1;33m\u001b[0m\u001b[1;33m\u001b[0m\u001b[0m\n",
      "\u001b[1;31mAssertionError\u001b[0m: 4D tensors expect 4 values for padding"
     ]
    }
   ],
   "metadata": {}
  },
  {
   "cell_type": "code",
   "execution_count": 43,
   "source": [
    "import numpy as np\r\n",
    "import torch\r\n",
    "p = np.zeros((1,180,180),np.float32)\r\n",
    "p = torch.from_numpy(np.pad(p,\r\n",
    "                                ((0, 0), (6,6), (6,6)),\r\n",
    "                                'reflect'))\r\n",
    "print(p.shape)                               "
   ],
   "outputs": [
    {
     "output_type": "stream",
     "name": "stdout",
     "text": [
      "torch.Size([1, 192, 192])\n"
     ]
    }
   ],
   "metadata": {}
  },
  {
   "cell_type": "code",
   "execution_count": 58,
   "source": [
    "import torch.nn.functional as TF\r\n",
    "a_t = torch.randn(1,180,180)\r\n",
    "print(a_t.shape)\r\n",
    "b_t = TF.pad(a_t,[0,0,6,6],'reflect',0)\r\n",
    "print(b_t.shape)"
   ],
   "outputs": [
    {
     "output_type": "stream",
     "name": "stdout",
     "text": [
      "torch.Size([1, 180, 180])\n"
     ]
    },
    {
     "output_type": "error",
     "ename": "AssertionError",
     "evalue": "3D tensors expect 2 values for padding",
     "traceback": [
      "\u001b[1;31m---------------------------------------------------------------------------\u001b[0m",
      "\u001b[1;31mAssertionError\u001b[0m                            Traceback (most recent call last)",
      "\u001b[1;32m<ipython-input-58-30515f948e1e>\u001b[0m in \u001b[0;36m<module>\u001b[1;34m\u001b[0m\n\u001b[0;32m      2\u001b[0m \u001b[0ma_t\u001b[0m \u001b[1;33m=\u001b[0m \u001b[0mtorch\u001b[0m\u001b[1;33m.\u001b[0m\u001b[0mrandn\u001b[0m\u001b[1;33m(\u001b[0m\u001b[1;36m1\u001b[0m\u001b[1;33m,\u001b[0m\u001b[1;36m180\u001b[0m\u001b[1;33m,\u001b[0m\u001b[1;36m180\u001b[0m\u001b[1;33m)\u001b[0m\u001b[1;33m\u001b[0m\u001b[1;33m\u001b[0m\u001b[0m\n\u001b[0;32m      3\u001b[0m \u001b[0mprint\u001b[0m\u001b[1;33m(\u001b[0m\u001b[0ma_t\u001b[0m\u001b[1;33m.\u001b[0m\u001b[0mshape\u001b[0m\u001b[1;33m)\u001b[0m\u001b[1;33m\u001b[0m\u001b[1;33m\u001b[0m\u001b[0m\n\u001b[1;32m----> 4\u001b[1;33m \u001b[0mb_t\u001b[0m \u001b[1;33m=\u001b[0m \u001b[0mTF\u001b[0m\u001b[1;33m.\u001b[0m\u001b[0mpad\u001b[0m\u001b[1;33m(\u001b[0m\u001b[0ma_t\u001b[0m\u001b[1;33m,\u001b[0m\u001b[1;33m[\u001b[0m\u001b[1;36m0\u001b[0m\u001b[1;33m,\u001b[0m\u001b[1;36m0\u001b[0m\u001b[1;33m,\u001b[0m\u001b[1;36m6\u001b[0m\u001b[1;33m,\u001b[0m\u001b[1;36m6\u001b[0m\u001b[1;33m]\u001b[0m\u001b[1;33m,\u001b[0m\u001b[1;34m'reflect'\u001b[0m\u001b[1;33m,\u001b[0m\u001b[1;36m0\u001b[0m\u001b[1;33m)\u001b[0m\u001b[1;33m\u001b[0m\u001b[1;33m\u001b[0m\u001b[0m\n\u001b[0m\u001b[0;32m      5\u001b[0m \u001b[0mprint\u001b[0m\u001b[1;33m(\u001b[0m\u001b[0mb_t\u001b[0m\u001b[1;33m.\u001b[0m\u001b[0mshape\u001b[0m\u001b[1;33m)\u001b[0m\u001b[1;33m\u001b[0m\u001b[1;33m\u001b[0m\u001b[0m\n",
      "\u001b[1;32m~\\AppData\\Local\\Programs\\Python\\Python39\\lib\\site-packages\\torch\\nn\\functional.py\u001b[0m in \u001b[0;36m_pad\u001b[1;34m(input, pad, mode, value)\u001b[0m\n\u001b[0;32m   4155\u001b[0m         \u001b[1;32massert\u001b[0m \u001b[0mvalue\u001b[0m \u001b[1;33m==\u001b[0m \u001b[1;36m0\u001b[0m\u001b[1;33m,\u001b[0m \u001b[1;34m'Padding mode \"{}\"\" doesn\\'t take in value argument'\u001b[0m\u001b[1;33m.\u001b[0m\u001b[0mformat\u001b[0m\u001b[1;33m(\u001b[0m\u001b[0mmode\u001b[0m\u001b[1;33m)\u001b[0m\u001b[1;33m\u001b[0m\u001b[1;33m\u001b[0m\u001b[0m\n\u001b[0;32m   4156\u001b[0m         \u001b[1;32mif\u001b[0m \u001b[0minput\u001b[0m\u001b[1;33m.\u001b[0m\u001b[0mdim\u001b[0m\u001b[1;33m(\u001b[0m\u001b[1;33m)\u001b[0m \u001b[1;33m==\u001b[0m \u001b[1;36m3\u001b[0m\u001b[1;33m:\u001b[0m\u001b[1;33m\u001b[0m\u001b[1;33m\u001b[0m\u001b[0m\n\u001b[1;32m-> 4157\u001b[1;33m             \u001b[1;32massert\u001b[0m \u001b[0mlen\u001b[0m\u001b[1;33m(\u001b[0m\u001b[0mpad\u001b[0m\u001b[1;33m)\u001b[0m \u001b[1;33m==\u001b[0m \u001b[1;36m2\u001b[0m\u001b[1;33m,\u001b[0m \u001b[1;34m\"3D tensors expect 2 values for padding\"\u001b[0m\u001b[1;33m\u001b[0m\u001b[1;33m\u001b[0m\u001b[0m\n\u001b[0m\u001b[0;32m   4158\u001b[0m             \u001b[1;32mif\u001b[0m \u001b[0mmode\u001b[0m \u001b[1;33m==\u001b[0m \u001b[1;34m\"reflect\"\u001b[0m\u001b[1;33m:\u001b[0m\u001b[1;33m\u001b[0m\u001b[1;33m\u001b[0m\u001b[0m\n\u001b[0;32m   4159\u001b[0m                 \u001b[1;32mreturn\u001b[0m \u001b[0mtorch\u001b[0m\u001b[1;33m.\u001b[0m\u001b[0m_C\u001b[0m\u001b[1;33m.\u001b[0m\u001b[0m_nn\u001b[0m\u001b[1;33m.\u001b[0m\u001b[0mreflection_pad1d\u001b[0m\u001b[1;33m(\u001b[0m\u001b[0minput\u001b[0m\u001b[1;33m,\u001b[0m \u001b[0mpad\u001b[0m\u001b[1;33m)\u001b[0m\u001b[1;33m\u001b[0m\u001b[1;33m\u001b[0m\u001b[0m\n",
      "\u001b[1;31mAssertionError\u001b[0m: 3D tensors expect 2 values for padding"
     ]
    }
   ],
   "metadata": {}
  }
 ],
 "metadata": {
  "orig_nbformat": 4,
  "language_info": {
   "name": "python",
   "version": "3.9.1",
   "mimetype": "text/x-python",
   "codemirror_mode": {
    "name": "ipython",
    "version": 3
   },
   "pygments_lexer": "ipython3",
   "nbconvert_exporter": "python",
   "file_extension": ".py"
  },
  "kernelspec": {
   "name": "python3",
   "display_name": "Python 3.9.1 64-bit"
  },
  "interpreter": {
   "hash": "70f3c038ccd4929d4f5e3f1b4e72d58d2d31a35463a2e52dc84c448bb4aefeb0"
  }
 },
 "nbformat": 4,
 "nbformat_minor": 2
}